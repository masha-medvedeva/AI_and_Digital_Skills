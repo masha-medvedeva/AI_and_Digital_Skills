{
  "nbformat": 4,
  "nbformat_minor": 0,
  "metadata": {
    "colab": {
      "provenance": [],
      "authorship_tag": "ABX9TyPd4QHEh75Y50Fnt39DG8BD",
      "include_colab_link": true
    },
    "kernelspec": {
      "name": "python3",
      "display_name": "Python 3"
    },
    "language_info": {
      "name": "python"
    }
  },
  "cells": [
    {
      "cell_type": "markdown",
      "metadata": {
        "id": "view-in-github",
        "colab_type": "text"
      },
      "source": [
        "<a href=\"https://colab.research.google.com/github/masha-medvedeva/AI_and_Digital_Skills/blob/main/predicting_court_decisions.ipynb\" target=\"_parent\"><img src=\"https://colab.research.google.com/assets/colab-badge.svg\" alt=\"Open In Colab\"/></a>"
      ]
    },
    {
      "cell_type": "markdown",
      "source": [
        "\n",
        "#Predicting court decisions of the European Court of Human Rights with machine learning and Google Colab\n",
        "\n"
      ],
      "metadata": {
        "id": "86o3TaRfTKa9"
      }
    },
    {
      "cell_type": "markdown",
      "source": [
        "##Load libraries\n",
        "First we need to load all the necessary libraries.\n",
        "We can more here when we want to add more functions as we go."
      ],
      "metadata": {
        "id": "5AUstsxmTbKY"
      }
    },
    {
      "cell_type": "code",
      "execution_count": 3,
      "metadata": {
        "id": "tQV3akjCp4Sz"
      },
      "outputs": [],
      "source": [
        "import pandas as pd #pandas library, a way to work with table full of data\n",
        "from sklearn.feature_extraction.text import TfidfVectorizer #vectorizer converting documents into tf-idf representation\n",
        "from sklearn.dummy import DummyClassifier #Dummy CLassifier, predicts something?\n",
        "from sklearn.naive_bayes import MultinomialNB #Naive Bayes classifier\n",
        "from sklearn.metrics import accuracy_score #accuracy score"
      ]
    },
    {
      "cell_type": "markdown",
      "source": [
        "##Using Google Colab\n",
        "\n",
        "If you are using Colab you will need to mount your google drive in order to be able to use the data stored in a folder google drive.\n",
        "\n"
      ],
      "metadata": {
        "id": "EK_0VKSTRfkG"
      }
    },
    {
      "cell_type": "code",
      "source": [
        "from google.colab import drive\n",
        "drive.mount('/content/gdrive')"
      ],
      "metadata": {
        "id": "vjjzhZcvM8bG"
      },
      "execution_count": null,
      "outputs": []
    },
    {
      "cell_type": "markdown",
      "source": [
        "##Dataset"
      ],
      "metadata": {
        "id": "4594KqPE2jHc"
      }
    },
    {
      "cell_type": "markdown",
      "source": [
        "###Load data\n",
        "\n",
        "Now let's open the file with the data. The file that we are going to be using is in .csv format. This is a table format. You can save and open .csv files with Excel. \n",
        "\n",
        "More about .csv on Wikipedia: https://en.wikipedia.org/wiki/Comma-separated_values\n",
        "\n",
        "The data is scraped from https://hudoc.echr.coe.int/.\n",
        "\n",
        "**AT HOME:** I recommend looking at the actual files on this ECtHR website to see what kind of data is available and in what format."
      ],
      "metadata": {
        "id": "WgAopFFQQ15o"
      }
    },
    {
      "cell_type": "code",
      "source": [
        "#import csv with data\n",
        "dataset = pd.read_csv('/content/gdrive/MyDrive/AI and Digital Skills/data/Judgements_v_1.0.csv')"
      ],
      "metadata": {
        "id": "xciKrLLMp_Kq"
      },
      "execution_count": 4,
      "outputs": []
    },
    {
      "cell_type": "markdown",
      "source": [
        "###Inspect data\n",
        "\n",
        "First let's see what we have available in our dataset. To do so let's print the first five rows using .head()\n",
        "\n",
        "Want to see 10 rows use .head(10), etc.\n",
        "\n",
        "Note that the first row is actually 0, and not 1, this is the standard when programming in python. You will get used to it.\n"
      ],
      "metadata": {
        "id": "AKzz4EaJUGKY"
      }
    },
    {
      "cell_type": "code",
      "source": [
        "dataset.head()"
      ],
      "metadata": {
        "id": "4dq7ZuwoUTZD"
      },
      "execution_count": null,
      "outputs": []
    },
    {
      "cell_type": "markdown",
      "source": [
        "The rows are two long, so we can't see the names of all the columns, so let's instead print all the information available for one of the cases. Let's use case in row number 2 for that (application number 001-57518, CASE OF LAWLESS v. IRELAND)."
      ],
      "metadata": {
        "id": "Ll-Ps_vsVTrJ"
      }
    },
    {
      "cell_type": "code",
      "source": [
        "dataset.loc[2,]"
      ],
      "metadata": {
        "id": "ERI7HjRAV16d",
        "colab": {
          "base_uri": "https://localhost:8080/"
        },
        "outputId": "43705577-28b2-405b-a9d9-41897e6e07da"
      },
      "execution_count": 6,
      "outputs": [
        {
          "output_type": "execute_result",
          "data": {
            "text/plain": [
              "itemid                                                     001-57518\n",
              "docname                           CASE OF LAWLESS v. IRELAND (No. 3)\n",
              "appno                                                         332/57\n",
              "conclusion         Questions of procedure rejected;No violation o...\n",
              "importance                                                         2\n",
              "originatingbody                                                    9\n",
              "kpdate                                                    1961-07-01\n",
              "extractedappno                                         332/57;250/57\n",
              "doctypebranch                                                CHAMBER\n",
              "respondent                                                       IRL\n",
              "article                              17;5;5-1-b;5-1-c;5-3;6;7;7-1;15\n",
              "url                https://hudoc.echr.coe.int/app/conversion/docx...\n",
              "text               COURT (CHAMBER)\\n \\n \\n \\n \\n \\n \\nCASE OF LAW...\n",
              "procedure          1. The present case was referred to the Court ...\n",
              "procedure_facts                                                  NaN\n",
              "facts              I\\n1. The purpose of the Commission's request ...\n",
              "relevant_law                                                     NaN\n",
              "law                1. Whereas it has been established that G.R. L...\n",
              "verdict            Unanimously,\\n(i) Dismisses the plea in bar de...\n",
              "violation                                                          0\n",
              "is_communicated                                                    0\n",
              "Name: 2, dtype: object"
            ]
          },
          "metadata": {},
          "execution_count": 6
        }
      ]
    },
    {
      "cell_type": "markdown",
      "source": [
        "What types of variable do you see?\n",
        "\n",
        "**AT HOME:** Do they all make sense to you?\n",
        "\n"
      ],
      "metadata": {
        "id": "K5fwCqCcVA-0"
      }
    },
    {
      "cell_type": "markdown",
      "source": [
        "Now we see the all the column names but not the full text within each cell. To inspect those we can specify the specific column we want to look at:"
      ],
      "metadata": {
        "id": "vAkldQVzWjDk"
      }
    },
    {
      "cell_type": "code",
      "source": [
        "dataset.loc[2,'facts']"
      ],
      "metadata": {
        "id": "bq2Asc-KWvJ6"
      },
      "execution_count": null,
      "outputs": []
    },
    {
      "cell_type": "markdown",
      "source": [
        "To look at the full url you can use: `dataset.loc[2,'url']`\n",
        "\n",
        "For verdict: `dataset.loc[2,'verdict']` , etc."
      ],
      "metadata": {
        "id": "_jdwvzZpbICi"
      }
    },
    {
      "cell_type": "markdown",
      "source": [
        "###Select data"
      ],
      "metadata": {
        "id": "W-WyzvOw2Wg5"
      }
    },
    {
      "cell_type": "markdown",
      "source": [
        "We do not need all the data in the table for predicting court decisions. So it is easier to navigate let's make a new table with only the fact of the cases, which we are going to use as input, let's also keep the date of the judgement and the verdict, which will be the label.\n",
        "\n",
        "**AT HOME**: Whould you want to choose other columns, which ones, why?\n",
        "\n",
        "Not all rows in the table have all information (i.e., fact, date, verdict), There are many ways to deal with this, today, we are just goin to drop the rows which don't have all of the variables."
      ],
      "metadata": {
        "id": "ctv9xsfidDwP"
      }
    },
    {
      "cell_type": "code",
      "source": [
        "facts_dataset = (pd.DataFrame()\n",
        "                .assign(Date=dataset['kpdate'],           #keep the date column, so we can sort the data based on when the judgement was made\n",
        "                        Facts=dataset['facts'],           #keep the 'facts' column - this will be our main input\n",
        "                        Violation=dataset['violation'])   #keep the 'violaiton' column - this will be our label\n",
        "                .dropna()                                 #drop every row where at least one element is missing\n",
        "                .reset_index(drop=True))                  #resent the index of the table after removing the rows"
      ],
      "metadata": {
        "id": "83UfOoXhUAA7"
      },
      "execution_count": null,
      "outputs": []
    },
    {
      "cell_type": "markdown",
      "source": [
        "Note that we re-named some the columns, they are now called `'Date'`, `'Facts'` and `'Violation'`"
      ],
      "metadata": {
        "id": "lry6vYque6sy"
      }
    },
    {
      "cell_type": "markdown",
      "source": [
        "Let's see what the dataset with just selected columns looks like. How many cases in it now?"
      ],
      "metadata": {
        "id": "Gw41gzE-YvCH"
      }
    },
    {
      "cell_type": "code",
      "source": [
        "facts_dataset"
      ],
      "metadata": {
        "id": "zCkyLEOCS2BJ"
      },
      "execution_count": null,
      "outputs": []
    },
    {
      "cell_type": "markdown",
      "source": [
        "\n",
        "Let's look at our data more carefully. \n",
        "\n",
        "**AT HOME**: Experiment with printing the facts of different cases, and their verdicts, could you guess the court's decision based on the facts?"
      ],
      "metadata": {
        "id": "hT3lsic1ZPQx"
      }
    },
    {
      "cell_type": "code",
      "source": [
        "#print some data\n",
        "row_number = 33 #change this number to try other rows\n",
        "print('Facts of the case:\\n', facts_dataset.loc[row_number]['Facts'])\n",
        "print('\\n\\nVerdict:', 'violation' if facts_dataset.loc[row_number]['Violation'] == 1 else 'no violation')"
      ],
      "metadata": {
        "id": "BIo8f-j7rSaJ"
      },
      "execution_count": null,
      "outputs": []
    },
    {
      "cell_type": "markdown",
      "source": [
        "###Data info"
      ],
      "metadata": {
        "id": "DS5_uP_f3UfY"
      }
    },
    {
      "cell_type": "code",
      "source": [
        "#print some numbers\n",
        "print('Number of cases with violation:',\n",
        "      facts_dataset['Violation'].value_counts()[1])\n",
        "\n",
        "print('Number of cases without violation:',\n",
        "      facts_dataset['Violation'].value_counts()[0])"
      ],
      "metadata": {
        "id": "uMjZKeMtV8Ze"
      },
      "execution_count": null,
      "outputs": []
    },
    {
      "cell_type": "markdown",
      "source": [
        "---\n",
        "\n",
        "###Split the dataset into training and test data\n",
        "\n",
        "We want to only predict future cases to immitate how we would predict future court decision. Plus we don't want to use newer cases to predict old cases since they may be related, and that would be cheating.\n"
      ],
      "metadata": {
        "id": "F5y0VpHGz6xK"
      }
    },
    {
      "cell_type": "code",
      "source": [
        "#split the data in train and test\n",
        "train = facts_dataset[(facts_dataset['Date'] < '2017-01-01')]\n",
        "test = facts_dataset[(facts_dataset['Date'] >= '2017-01-01')]"
      ],
      "metadata": {
        "id": "23E7lB7SlE6Q"
      },
      "execution_count": null,
      "outputs": []
    },
    {
      "cell_type": "markdown",
      "source": [
        "Print the amount of cases in training set that resulted in violation of human rights:"
      ],
      "metadata": {
        "id": "7EDvaOWefoXi"
      }
    },
    {
      "cell_type": "code",
      "source": [
        "train['Violation'].value_counts()[1]"
      ],
      "metadata": {
        "id": "36FC25iVnQ6o"
      },
      "execution_count": null,
      "outputs": []
    },
    {
      "cell_type": "markdown",
      "source": [
        "AT HOME: try printing the amount of the cases that resulted in no violaiton."
      ],
      "metadata": {
        "id": "zNuH7Kx8f1PN"
      }
    },
    {
      "cell_type": "markdown",
      "source": [
        "###Input and labels"
      ],
      "metadata": {
        "id": "gg8PRiQYgRnl"
      }
    },
    {
      "cell_type": "markdown",
      "source": [
        "Now let's create a list of all inputs (facts) for the training set `Xtrain`, and a list of labels `Ytrain`.\n",
        "\n",
        "Let's do the same for the test set, input `Xtest` and labels `Ytest`\n",
        "\n"
      ],
      "metadata": {
        "id": "hzjGOIAVgeqb"
      }
    },
    {
      "cell_type": "code",
      "source": [
        "Xtrain = train['Facts']\n",
        "Ytrain = train['Violation']\n",
        "Xtest = test['Facts']\n",
        "Ytest = test['Violation']\n",
        "\n",
        "Xtest_text = list(test['Facts']) #AT HOME: what is this for?"
      ],
      "metadata": {
        "id": "68KbDKDepStC"
      },
      "execution_count": null,
      "outputs": []
    },
    {
      "cell_type": "code",
      "source": [
        "print('Number of cases in the training set:', len(Xtrain))\n",
        "print('Number of cases in the test set:', len(Xtest))"
      ],
      "metadata": {
        "id": "g-LP0o33t7Q2"
      },
      "execution_count": null,
      "outputs": []
    },
    {
      "cell_type": "markdown",
      "source": [
        "###Create feature vectors"
      ],
      "metadata": {
        "id": "WcuFpZad4vYw"
      }
    },
    {
      "cell_type": "code",
      "source": [
        "#encode features into vectors: tf-idf vectorizer\n",
        "vectorizer = TfidfVectorizer()\n",
        "Xtrain = vectorizer.fit_transform(Xtrain)\n",
        "print('Number of features:', len(vectorizer.get_feature_names_out()))\n",
        "vectorizer.get_feature_names_out()"
      ],
      "metadata": {
        "id": "b0Wj8vaTphMz"
      },
      "execution_count": null,
      "outputs": []
    },
    {
      "cell_type": "code",
      "source": [
        "#transform test set into vectors\n",
        "Xtest = vectorizer.transform(Xtest)"
      ],
      "metadata": {
        "id": "za9zwJUyqp2z"
      },
      "execution_count": null,
      "outputs": []
    },
    {
      "cell_type": "markdown",
      "source": [
        "## Machine learning"
      ],
      "metadata": {
        "id": "DVU-DESp48Tg"
      }
    },
    {
      "cell_type": "markdown",
      "source": [
        "###Dummy classifier"
      ],
      "metadata": {
        "id": "RyQIeSYb5AYf"
      }
    },
    {
      "cell_type": "code",
      "source": [
        "#Dummy classifier\n",
        "dummy_clf = DummyClassifier(strategy=\"uniform\")\n",
        "dummy_clf.fit(Xtrain, Ytrain)"
      ],
      "metadata": {
        "id": "g-RBDEpuwuri"
      },
      "execution_count": null,
      "outputs": []
    },
    {
      "cell_type": "markdown",
      "source": [
        "#### Making a prediction"
      ],
      "metadata": {
        "id": "q3y4_xMF5E6f"
      }
    },
    {
      "cell_type": "code",
      "source": [
        "#make a prediction\n",
        "Ypredict = dummy_clf.predict(Xtest)\n",
        "accuracy_score(Ytest, Ypredict)"
      ],
      "metadata": {
        "id": "j2QwDdnXqzxA",
        "colab": {
          "base_uri": "https://localhost:8080/"
        },
        "outputId": "49c94564-9bb4-4287-af15-025160a2b811"
      },
      "execution_count": null,
      "outputs": [
        {
          "output_type": "execute_result",
          "data": {
            "text/plain": [
              "0.47901491501907734"
            ]
          },
          "metadata": {},
          "execution_count": 18
        }
      ]
    },
    {
      "cell_type": "code",
      "source": [
        "print('Prediction:', Ypredict[22], '\\nGold label:', list(Ytest)[22], '\\n\\nFacts of the case:\\n', (Xtest_text[22]))\n"
      ],
      "metadata": {
        "colab": {
          "base_uri": "https://localhost:8080/"
        },
        "id": "QDf4p7ZN5NBt",
        "outputId": "8f181af8-501c-4a1d-f9f6-0303549868f6"
      },
      "execution_count": null,
      "outputs": [
        {
          "output_type": "stream",
          "name": "stdout",
          "text": [
            "Prediction: 1 \n",
            "Gold label: 1 \n",
            "\n",
            "Facts of the case:\n",
            " 3.  The list of applicants and the relevant details of the applications are set out in the appended table.\n",
            "4.  The applicants complained of the excessive length of criminal proceedings and of the lack of any effective remedy in domestic law. Some applicants also raised other complaints under the provisions of the Convention.\n"
          ]
        }
      ]
    },
    {
      "cell_type": "markdown",
      "source": [
        "### Naive Bayes"
      ],
      "metadata": {
        "id": "XQvtVoIOiHWW"
      }
    },
    {
      "cell_type": "code",
      "source": [
        "#Naive Bayes classifier\n",
        "nb_clf = MultinomialNB()\n",
        "nb_clf.fit(Xtrain, Ytrain)\n",
        "Ypredict = nb_clf.predict(Xtest)\n",
        "accuracy_score(Ytest, Ypredict)"
      ],
      "metadata": {
        "id": "gLhhTV8HdaLe"
      },
      "execution_count": null,
      "outputs": []
    },
    {
      "cell_type": "markdown",
      "source": [
        "**AT HOME**: Why does this Naive Bayes classifier produce such a high score? You don't need to know how the model works to answer this question.\n",
        "\n"
      ],
      "metadata": {
        "id": "9ery9KcckEXZ"
      }
    },
    {
      "cell_type": "markdown",
      "source": [
        "___"
      ],
      "metadata": {
        "id": "zeabHjGSc4Nk"
      }
    }
  ]
}