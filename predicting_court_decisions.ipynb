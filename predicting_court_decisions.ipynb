{
  "cells": [
    {
      "cell_type": "markdown",
      "metadata": {
        "id": "view-in-github",
        "colab_type": "text"
      },
      "source": [
        "<a href=\"https://colab.research.google.com/github/masha-medvedeva/AI_and_Digital_Skills/blob/main/predicting_court_decisions.ipynb\" target=\"_parent\"><img src=\"https://colab.research.google.com/assets/colab-badge.svg\" alt=\"Open In Colab\"/></a>"
      ]
    },
    {
      "cell_type": "markdown",
      "metadata": {
        "id": "86o3TaRfTKa9"
      },
      "source": [
        "\n",
        "#Predicting court decisions of the European Court of Human Rights with machine learning and Google Colab\n",
        "\n"
      ]
    },
    {
      "cell_type": "markdown",
      "metadata": {
        "id": "5AUstsxmTbKY"
      },
      "source": [
        "##Load libraries\n",
        "First we need to load all the necessary libraries.\n",
        "We can more here when we want to add more functions as we go."
      ]
    },
    {
      "cell_type": "code",
      "execution_count": 1,
      "metadata": {
        "id": "tQV3akjCp4Sz"
      },
      "outputs": [],
      "source": [
        "import pandas as pd #pandas library, a way to work with table full of data\n",
        "from sklearn.feature_extraction.text import TfidfVectorizer #vectorizer converting documents into tf-idf representation\n",
        "from sklearn.dummy import DummyClassifier #Dummy CLassifier, predicts something?\n",
        "from sklearn.naive_bayes import MultinomialNB #Naive Bayes classifier\n",
        "from sklearn.metrics import accuracy_score #accuracy score"
      ]
    },
    {
      "cell_type": "markdown",
      "metadata": {
        "id": "EK_0VKSTRfkG"
      },
      "source": [
        "##Using Google Colab\n",
        "\n",
        "If you are using Colab you will need to mount your google drive in order to be able to use the data stored in a folder google drive.\n",
        "\n"
      ]
    },
    {
      "cell_type": "code",
      "execution_count": 2,
      "metadata": {
        "id": "vjjzhZcvM8bG",
        "colab": {
          "base_uri": "https://localhost:8080/"
        },
        "outputId": "b031bc4c-43b0-45b2-b83c-cad22df05581"
      },
      "outputs": [
        {
          "output_type": "stream",
          "name": "stdout",
          "text": [
            "Mounted at /content/gdrive\n"
          ]
        }
      ],
      "source": [
        "from google.colab import drive\n",
        "drive.mount('/content/gdrive')"
      ]
    },
    {
      "cell_type": "markdown",
      "metadata": {
        "id": "4594KqPE2jHc"
      },
      "source": [
        "##Dataset"
      ]
    },
    {
      "cell_type": "markdown",
      "metadata": {
        "id": "WgAopFFQQ15o"
      },
      "source": [
        "###Load data\n",
        "\n",
        "Now let's open the file with the data. The file that we are going to be using is in .csv format. This is a table format. You can save and open .csv files with Excel. \n",
        "\n",
        "More about .csv on Wikipedia: https://en.wikipedia.org/wiki/Comma-separated_values\n",
        "\n",
        "The data is scraped from https://hudoc.echr.coe.int/.\n",
        "\n",
        "**AT HOME:** I recommend looking at the actual files on this ECtHR website to see what kind of data is available and in what format."
      ]
    },
    {
      "cell_type": "code",
      "execution_count": 3,
      "metadata": {
        "id": "xciKrLLMp_Kq"
      },
      "outputs": [],
      "source": [
        "#import csv with data\n",
        "dataset = pd.read_csv('/content/gdrive/MyDrive/AI and Digital Skills/data/Judgements_v_1.0.csv')"
      ]
    },
    {
      "cell_type": "markdown",
      "metadata": {
        "id": "AKzz4EaJUGKY"
      },
      "source": [
        "###Inspect data\n",
        "\n",
        "First let's see what we have available in our dataset. To do so let's print the first five rows using .head()\n",
        "\n",
        "Want to see 10 rows use .head(10), etc.\n",
        "\n",
        "Note that the first row is actually 0, and not 1, this is the standard when programming in python. You will get used to it.\n"
      ]
    },
    {
      "cell_type": "code",
      "execution_count": 4,
      "metadata": {
        "id": "4dq7ZuwoUTZD",
        "colab": {
          "base_uri": "https://localhost:8080/",
          "height": 681
        },
        "outputId": "d0a613c3-ef46-40f8-bfa4-a67424111ce1"
      },
      "outputs": [
        {
          "output_type": "execute_result",
          "data": {
            "text/plain": [
              "      itemid                                            docname  \\\n",
              "0  001-57516                 CASE OF LAWLESS v. IRELAND (No. 1)   \n",
              "1  001-57517                 CASE OF LAWLESS v. IRELAND (No. 2)   \n",
              "2  001-57518                 CASE OF LAWLESS v. IRELAND (No. 3)   \n",
              "3  001-57433                       CASE OF DE BECKER v. BELGIUM   \n",
              "4  001-57524  CASE \"RELATING TO CERTAIN ASPECTS OF THE LAWS ...   \n",
              "\n",
              "                                             appno  \\\n",
              "0                                           332/57   \n",
              "1                                           332/57   \n",
              "2                                           332/57   \n",
              "3                                           214/56   \n",
              "4  1474/62;1677/62;1691/62;1769/63;1994/63;2126/64   \n",
              "\n",
              "                                          conclusion  importance  \\\n",
              "0  Preliminary objection rejected (incompatibilit...           2   \n",
              "1          Questions of procedure partially accepted           2   \n",
              "2  Questions of procedure rejected;No violation o...           2   \n",
              "3                             Struck out of the list           2   \n",
              "4   Preliminary objection rejected (incompatibility)           2   \n",
              "\n",
              "   originatingbody      kpdate  \\\n",
              "0                9  1960-11-14   \n",
              "1                9  1961-04-07   \n",
              "2                9  1961-07-01   \n",
              "3                9  1962-03-27   \n",
              "4               15  1967-02-09   \n",
              "\n",
              "                                    extractedappno doctypebranch respondent  \\\n",
              "0                                           332/57       CHAMBER        IRL   \n",
              "1                                           332/57       CHAMBER        IRL   \n",
              "2                                    332/57;250/57       CHAMBER        IRL   \n",
              "3                                              NaN       CHAMBER        BEL   \n",
              "4  1474/62;1677/62;1691/62;1769/63;1994/63;2126/64       CHAMBER        BEL   \n",
              "\n",
              "   ...                                                url  \\\n",
              "0  ...  https://hudoc.echr.coe.int/app/conversion/docx...   \n",
              "1  ...  https://hudoc.echr.coe.int/app/conversion/docx...   \n",
              "2  ...  https://hudoc.echr.coe.int/app/conversion/docx...   \n",
              "3  ...  https://hudoc.echr.coe.int/app/conversion/docx...   \n",
              "4  ...  https://hudoc.echr.coe.int/app/conversion/docx...   \n",
              "\n",
              "                                                text  \\\n",
              "0  COURT (CHAMBER)\\n \\n \\n \\n \\n \\n \\nCASE OF LAW...   \n",
              "1  COURT (CHAMBER)\\n \\n \\n \\n \\n \\n \\nCASE OF LAW...   \n",
              "2  COURT (CHAMBER)\\n \\n \\n \\n \\n \\n \\nCASE OF LAW...   \n",
              "3  COURT (CHAMBER)\\n \\n \\n \\n \\n \\n \\nCASE OF DE ...   \n",
              "4  COURT (PLENARY)\\n \\n \\n \\n \\n \\n \\nCASE \"RELAT...   \n",
              "\n",
              "                                           procedure procedure_facts  \\\n",
              "0  On 13th April 1960 the Secretary of the Europe...             NaN   \n",
              "1                                                NaN             NaN   \n",
              "2  1. The present case was referred to the Court ...             NaN   \n",
              "3  1. On 29th April 1960, the European Commission...             NaN   \n",
              "4  1.  By a request dated 25th June 1965, the Eur...             NaN   \n",
              "\n",
              "                                               facts relevant_law  \\\n",
              "0  The purpose of the Commission's Request - to w...          NaN   \n",
              "1                                                NaN          NaN   \n",
              "2  I\\n1. The purpose of the Commission's request ...          NaN   \n",
              "3                                                NaN          NaN   \n",
              "4  1.  The object of the Commission’s request is ...          NaN   \n",
              "\n",
              "                                                 law  \\\n",
              "0  Whereas the Irish Government, in reply to the ...   \n",
              "1                                                NaN   \n",
              "2  1. Whereas it has been established that G.R. L...   \n",
              "3                                                NaN   \n",
              "4  5.  The Commission having decided to join the ...   \n",
              "\n",
              "                                             verdict violation  \\\n",
              "0  Takes note of the withdrawal by the Irish Gove...         0   \n",
              "1                                                NaN         0   \n",
              "2  Unanimously,\\n(i) Dismisses the plea in bar de...         0   \n",
              "3  By 6 votes to 1\\n \\nDecides to strike the case...         0   \n",
              "4                                                NaN         0   \n",
              "\n",
              "   is_communicated  \n",
              "0                0  \n",
              "1                0  \n",
              "2                0  \n",
              "3                0  \n",
              "4                0  \n",
              "\n",
              "[5 rows x 21 columns]"
            ],
            "text/html": [
              "\n",
              "  <div id=\"df-0ab553a5-345a-4f95-8ce4-b675245af35b\">\n",
              "    <div class=\"colab-df-container\">\n",
              "      <div>\n",
              "<style scoped>\n",
              "    .dataframe tbody tr th:only-of-type {\n",
              "        vertical-align: middle;\n",
              "    }\n",
              "\n",
              "    .dataframe tbody tr th {\n",
              "        vertical-align: top;\n",
              "    }\n",
              "\n",
              "    .dataframe thead th {\n",
              "        text-align: right;\n",
              "    }\n",
              "</style>\n",
              "<table border=\"1\" class=\"dataframe\">\n",
              "  <thead>\n",
              "    <tr style=\"text-align: right;\">\n",
              "      <th></th>\n",
              "      <th>itemid</th>\n",
              "      <th>docname</th>\n",
              "      <th>appno</th>\n",
              "      <th>conclusion</th>\n",
              "      <th>importance</th>\n",
              "      <th>originatingbody</th>\n",
              "      <th>kpdate</th>\n",
              "      <th>extractedappno</th>\n",
              "      <th>doctypebranch</th>\n",
              "      <th>respondent</th>\n",
              "      <th>...</th>\n",
              "      <th>url</th>\n",
              "      <th>text</th>\n",
              "      <th>procedure</th>\n",
              "      <th>procedure_facts</th>\n",
              "      <th>facts</th>\n",
              "      <th>relevant_law</th>\n",
              "      <th>law</th>\n",
              "      <th>verdict</th>\n",
              "      <th>violation</th>\n",
              "      <th>is_communicated</th>\n",
              "    </tr>\n",
              "  </thead>\n",
              "  <tbody>\n",
              "    <tr>\n",
              "      <th>0</th>\n",
              "      <td>001-57516</td>\n",
              "      <td>CASE OF LAWLESS v. IRELAND (No. 1)</td>\n",
              "      <td>332/57</td>\n",
              "      <td>Preliminary objection rejected (incompatibilit...</td>\n",
              "      <td>2</td>\n",
              "      <td>9</td>\n",
              "      <td>1960-11-14</td>\n",
              "      <td>332/57</td>\n",
              "      <td>CHAMBER</td>\n",
              "      <td>IRL</td>\n",
              "      <td>...</td>\n",
              "      <td>https://hudoc.echr.coe.int/app/conversion/docx...</td>\n",
              "      <td>COURT (CHAMBER)\\n \\n \\n \\n \\n \\n \\nCASE OF LAW...</td>\n",
              "      <td>On 13th April 1960 the Secretary of the Europe...</td>\n",
              "      <td>NaN</td>\n",
              "      <td>The purpose of the Commission's Request - to w...</td>\n",
              "      <td>NaN</td>\n",
              "      <td>Whereas the Irish Government, in reply to the ...</td>\n",
              "      <td>Takes note of the withdrawal by the Irish Gove...</td>\n",
              "      <td>0</td>\n",
              "      <td>0</td>\n",
              "    </tr>\n",
              "    <tr>\n",
              "      <th>1</th>\n",
              "      <td>001-57517</td>\n",
              "      <td>CASE OF LAWLESS v. IRELAND (No. 2)</td>\n",
              "      <td>332/57</td>\n",
              "      <td>Questions of procedure partially accepted</td>\n",
              "      <td>2</td>\n",
              "      <td>9</td>\n",
              "      <td>1961-04-07</td>\n",
              "      <td>332/57</td>\n",
              "      <td>CHAMBER</td>\n",
              "      <td>IRL</td>\n",
              "      <td>...</td>\n",
              "      <td>https://hudoc.echr.coe.int/app/conversion/docx...</td>\n",
              "      <td>COURT (CHAMBER)\\n \\n \\n \\n \\n \\n \\nCASE OF LAW...</td>\n",
              "      <td>NaN</td>\n",
              "      <td>NaN</td>\n",
              "      <td>NaN</td>\n",
              "      <td>NaN</td>\n",
              "      <td>NaN</td>\n",
              "      <td>NaN</td>\n",
              "      <td>0</td>\n",
              "      <td>0</td>\n",
              "    </tr>\n",
              "    <tr>\n",
              "      <th>2</th>\n",
              "      <td>001-57518</td>\n",
              "      <td>CASE OF LAWLESS v. IRELAND (No. 3)</td>\n",
              "      <td>332/57</td>\n",
              "      <td>Questions of procedure rejected;No violation o...</td>\n",
              "      <td>2</td>\n",
              "      <td>9</td>\n",
              "      <td>1961-07-01</td>\n",
              "      <td>332/57;250/57</td>\n",
              "      <td>CHAMBER</td>\n",
              "      <td>IRL</td>\n",
              "      <td>...</td>\n",
              "      <td>https://hudoc.echr.coe.int/app/conversion/docx...</td>\n",
              "      <td>COURT (CHAMBER)\\n \\n \\n \\n \\n \\n \\nCASE OF LAW...</td>\n",
              "      <td>1. The present case was referred to the Court ...</td>\n",
              "      <td>NaN</td>\n",
              "      <td>I\\n1. The purpose of the Commission's request ...</td>\n",
              "      <td>NaN</td>\n",
              "      <td>1. Whereas it has been established that G.R. L...</td>\n",
              "      <td>Unanimously,\\n(i) Dismisses the plea in bar de...</td>\n",
              "      <td>0</td>\n",
              "      <td>0</td>\n",
              "    </tr>\n",
              "    <tr>\n",
              "      <th>3</th>\n",
              "      <td>001-57433</td>\n",
              "      <td>CASE OF DE BECKER v. BELGIUM</td>\n",
              "      <td>214/56</td>\n",
              "      <td>Struck out of the list</td>\n",
              "      <td>2</td>\n",
              "      <td>9</td>\n",
              "      <td>1962-03-27</td>\n",
              "      <td>NaN</td>\n",
              "      <td>CHAMBER</td>\n",
              "      <td>BEL</td>\n",
              "      <td>...</td>\n",
              "      <td>https://hudoc.echr.coe.int/app/conversion/docx...</td>\n",
              "      <td>COURT (CHAMBER)\\n \\n \\n \\n \\n \\n \\nCASE OF DE ...</td>\n",
              "      <td>1. On 29th April 1960, the European Commission...</td>\n",
              "      <td>NaN</td>\n",
              "      <td>NaN</td>\n",
              "      <td>NaN</td>\n",
              "      <td>NaN</td>\n",
              "      <td>By 6 votes to 1\\n \\nDecides to strike the case...</td>\n",
              "      <td>0</td>\n",
              "      <td>0</td>\n",
              "    </tr>\n",
              "    <tr>\n",
              "      <th>4</th>\n",
              "      <td>001-57524</td>\n",
              "      <td>CASE \"RELATING TO CERTAIN ASPECTS OF THE LAWS ...</td>\n",
              "      <td>1474/62;1677/62;1691/62;1769/63;1994/63;2126/64</td>\n",
              "      <td>Preliminary objection rejected (incompatibility)</td>\n",
              "      <td>2</td>\n",
              "      <td>15</td>\n",
              "      <td>1967-02-09</td>\n",
              "      <td>1474/62;1677/62;1691/62;1769/63;1994/63;2126/64</td>\n",
              "      <td>CHAMBER</td>\n",
              "      <td>BEL</td>\n",
              "      <td>...</td>\n",
              "      <td>https://hudoc.echr.coe.int/app/conversion/docx...</td>\n",
              "      <td>COURT (PLENARY)\\n \\n \\n \\n \\n \\n \\nCASE \"RELAT...</td>\n",
              "      <td>1.  By a request dated 25th June 1965, the Eur...</td>\n",
              "      <td>NaN</td>\n",
              "      <td>1.  The object of the Commission’s request is ...</td>\n",
              "      <td>NaN</td>\n",
              "      <td>5.  The Commission having decided to join the ...</td>\n",
              "      <td>NaN</td>\n",
              "      <td>0</td>\n",
              "      <td>0</td>\n",
              "    </tr>\n",
              "  </tbody>\n",
              "</table>\n",
              "<p>5 rows × 21 columns</p>\n",
              "</div>\n",
              "      <button class=\"colab-df-convert\" onclick=\"convertToInteractive('df-0ab553a5-345a-4f95-8ce4-b675245af35b')\"\n",
              "              title=\"Convert this dataframe to an interactive table.\"\n",
              "              style=\"display:none;\">\n",
              "        \n",
              "  <svg xmlns=\"http://www.w3.org/2000/svg\" height=\"24px\"viewBox=\"0 0 24 24\"\n",
              "       width=\"24px\">\n",
              "    <path d=\"M0 0h24v24H0V0z\" fill=\"none\"/>\n",
              "    <path d=\"M18.56 5.44l.94 2.06.94-2.06 2.06-.94-2.06-.94-.94-2.06-.94 2.06-2.06.94zm-11 1L8.5 8.5l.94-2.06 2.06-.94-2.06-.94L8.5 2.5l-.94 2.06-2.06.94zm10 10l.94 2.06.94-2.06 2.06-.94-2.06-.94-.94-2.06-.94 2.06-2.06.94z\"/><path d=\"M17.41 7.96l-1.37-1.37c-.4-.4-.92-.59-1.43-.59-.52 0-1.04.2-1.43.59L10.3 9.45l-7.72 7.72c-.78.78-.78 2.05 0 2.83L4 21.41c.39.39.9.59 1.41.59.51 0 1.02-.2 1.41-.59l7.78-7.78 2.81-2.81c.8-.78.8-2.07 0-2.86zM5.41 20L4 18.59l7.72-7.72 1.47 1.35L5.41 20z\"/>\n",
              "  </svg>\n",
              "      </button>\n",
              "      \n",
              "  <style>\n",
              "    .colab-df-container {\n",
              "      display:flex;\n",
              "      flex-wrap:wrap;\n",
              "      gap: 12px;\n",
              "    }\n",
              "\n",
              "    .colab-df-convert {\n",
              "      background-color: #E8F0FE;\n",
              "      border: none;\n",
              "      border-radius: 50%;\n",
              "      cursor: pointer;\n",
              "      display: none;\n",
              "      fill: #1967D2;\n",
              "      height: 32px;\n",
              "      padding: 0 0 0 0;\n",
              "      width: 32px;\n",
              "    }\n",
              "\n",
              "    .colab-df-convert:hover {\n",
              "      background-color: #E2EBFA;\n",
              "      box-shadow: 0px 1px 2px rgba(60, 64, 67, 0.3), 0px 1px 3px 1px rgba(60, 64, 67, 0.15);\n",
              "      fill: #174EA6;\n",
              "    }\n",
              "\n",
              "    [theme=dark] .colab-df-convert {\n",
              "      background-color: #3B4455;\n",
              "      fill: #D2E3FC;\n",
              "    }\n",
              "\n",
              "    [theme=dark] .colab-df-convert:hover {\n",
              "      background-color: #434B5C;\n",
              "      box-shadow: 0px 1px 3px 1px rgba(0, 0, 0, 0.15);\n",
              "      filter: drop-shadow(0px 1px 2px rgba(0, 0, 0, 0.3));\n",
              "      fill: #FFFFFF;\n",
              "    }\n",
              "  </style>\n",
              "\n",
              "      <script>\n",
              "        const buttonEl =\n",
              "          document.querySelector('#df-0ab553a5-345a-4f95-8ce4-b675245af35b button.colab-df-convert');\n",
              "        buttonEl.style.display =\n",
              "          google.colab.kernel.accessAllowed ? 'block' : 'none';\n",
              "\n",
              "        async function convertToInteractive(key) {\n",
              "          const element = document.querySelector('#df-0ab553a5-345a-4f95-8ce4-b675245af35b');\n",
              "          const dataTable =\n",
              "            await google.colab.kernel.invokeFunction('convertToInteractive',\n",
              "                                                     [key], {});\n",
              "          if (!dataTable) return;\n",
              "\n",
              "          const docLinkHtml = 'Like what you see? Visit the ' +\n",
              "            '<a target=\"_blank\" href=https://colab.research.google.com/notebooks/data_table.ipynb>data table notebook</a>'\n",
              "            + ' to learn more about interactive tables.';\n",
              "          element.innerHTML = '';\n",
              "          dataTable['output_type'] = 'display_data';\n",
              "          await google.colab.output.renderOutput(dataTable, element);\n",
              "          const docLink = document.createElement('div');\n",
              "          docLink.innerHTML = docLinkHtml;\n",
              "          element.appendChild(docLink);\n",
              "        }\n",
              "      </script>\n",
              "    </div>\n",
              "  </div>\n",
              "  "
            ]
          },
          "metadata": {},
          "execution_count": 4
        }
      ],
      "source": [
        "dataset.head(5)"
      ]
    },
    {
      "cell_type": "markdown",
      "metadata": {
        "id": "Ll-Ps_vsVTrJ"
      },
      "source": [
        "The rows are two long, so we can't see the names of all the columns, so let's instead print all the information available for one of the cases. Let's use case in row number 2 for that (application number 001-57518, CASE OF LAWLESS v. IRELAND)."
      ]
    },
    {
      "cell_type": "code",
      "execution_count": 5,
      "metadata": {
        "id": "ERI7HjRAV16d",
        "colab": {
          "base_uri": "https://localhost:8080/"
        },
        "outputId": "a9c04f6a-6dd9-45f2-eb9c-60fe294935cf"
      },
      "outputs": [
        {
          "output_type": "execute_result",
          "data": {
            "text/plain": [
              "itemid                                                     001-57518\n",
              "docname                           CASE OF LAWLESS v. IRELAND (No. 3)\n",
              "appno                                                         332/57\n",
              "conclusion         Questions of procedure rejected;No violation o...\n",
              "importance                                                         2\n",
              "originatingbody                                                    9\n",
              "kpdate                                                    1961-07-01\n",
              "extractedappno                                         332/57;250/57\n",
              "doctypebranch                                                CHAMBER\n",
              "respondent                                                       IRL\n",
              "article                              17;5;5-1-b;5-1-c;5-3;6;7;7-1;15\n",
              "url                https://hudoc.echr.coe.int/app/conversion/docx...\n",
              "text               COURT (CHAMBER)\\n \\n \\n \\n \\n \\n \\nCASE OF LAW...\n",
              "procedure          1. The present case was referred to the Court ...\n",
              "procedure_facts                                                  NaN\n",
              "facts              I\\n1. The purpose of the Commission's request ...\n",
              "relevant_law                                                     NaN\n",
              "law                1. Whereas it has been established that G.R. L...\n",
              "verdict            Unanimously,\\n(i) Dismisses the plea in bar de...\n",
              "violation                                                          0\n",
              "is_communicated                                                    0\n",
              "Name: 2, dtype: object"
            ]
          },
          "metadata": {},
          "execution_count": 5
        }
      ],
      "source": [
        "dataset.loc[2,]"
      ]
    },
    {
      "cell_type": "markdown",
      "metadata": {
        "id": "K5fwCqCcVA-0"
      },
      "source": [
        "What types of variable do you see?\n",
        "\n",
        "**AT HOME:** Do they all make sense to you?\n",
        "\n"
      ]
    },
    {
      "cell_type": "markdown",
      "metadata": {
        "id": "vAkldQVzWjDk"
      },
      "source": [
        "Now we see the all the column names but not the full text within each cell. To inspect those we can specify the specific column we want to look at:"
      ]
    },
    {
      "cell_type": "code",
      "execution_count": 6,
      "metadata": {
        "id": "bq2Asc-KWvJ6",
        "colab": {
          "base_uri": "https://localhost:8080/",
          "height": 127
        },
        "outputId": "d0860982-316c-4df2-c30b-c1b9494a49f2"
      },
      "outputs": [
        {
          "output_type": "execute_result",
          "data": {
            "text/plain": [
              "'I\\n1. The purpose of the Commission\\'s request - to which is appended the Report drawn up by the Commission in accordance with the provisions of Article 31 (art. 31) of the Convention - is to submit the case of G.R. Lawless to the Court so that it may decide whether or not the facts of the case disclose that the Irish Government has failed in its obligations under the Convention.\\nAs appears from the Commission\\'s request and from its Memorial, G.R. Lawless alleges in his Application that, in his case, the Convention has been violated by the authorities of the Republic of Ireland, inasmuch as, in pursuance of an Order made by the Minister of Justice under section 4 of Act No. 2 of 1940 amending the Offences against the State Act, 1939, he was detained without trial, between 13th July and 11th December 1957, in a military detention camp situated in the territory of the Republic of Ireland.\\n2. The facts of the case, as they appear from the Report of the Commission, the memorials, evidence and documents laid before the Court and the statements made by the Commission and by the Irish Government during the oral hearings before the Court, are in substance as follows:\\n3. G.R. Lawless is a builder\\'s labourer, born in 1936. He is ordinarily resident in Dublin (Ireland).\\n4. G.R. Lawless admitted before the Commission that he had become a member of the IRA (\"Irish Republican Army\") in January 1956. According to his own statements, he left the IRA in June 1956 and a splinter group of the IRA in December 1956.\\nII\\n5. Under the Treaty establishing the Irish Free State, signed on 6th December 1921 between the United Kingdom and the Irish Free State, six counties situated in the North of the Island of Ireland remained under British sovereignty.\\n6. On several occasions since the foundation of the Irish Free State, armed groups, calling themselves the \"Irish Republican Army\" (IRA), have been formed, for the avowed purpose of carrying out acts of violence to put an end to British sovereignty in Northern Ireland. At times the activities of these groups have been such that effective repression by the ordinary process of law was not possible. From time to time, the legislature has, therefore, conferred upon the Government special powers deal with the situation created by these unlawful activities; and such powers have sometimes included the power of detention without trial.\\nOn 29th December 1937 the Constitution at present in force in the Irish Republic was promulgated. In May 1938 all persons detained for political offences were released.\\nWhen the political situation in Europe foreshadowed war, the IRA resumed its activities and committed fresh acts of violence.\\nAt the beginning of 1939 the IRA published documents described by it as a \"declaration of war on Great Britain\". Following that declaration, the IRA, operating from territory of the Republic of Ireland, intensified its acts of violence on British territory.\\n7. In order to meet the situation created by the activities of the IRA, the Parliament of the Republic of Ireland passed the Offences against the State Act, 1939, which came into force on 14th June 1939.\\nIII\\n8. Part II of the 1939 Act defines the \"activities prejudicial to the preservation of public peace and order or to the security of the State\". Part III contains provisions relating to organisations whose activities come under the Act and any which may therefore be declared an \"unlawful organisation\" by order of the Government. Section 21 of the 1939 Act provides as follows:\\nSection 21:\\n\"(1) It shall not be lawful for any person to be a member of an unlawful organisation;\\n(2) Every person who is a member of an unlawful organisation in contravention of this section shall be guilty of an offence under this section and shall:\\n(a) on summary conviction thereof, be liable to a fine not exceeding fifty pounds, or at the discretion of the court, to imprisonment for a term not exceeding three months or to both such fine and such imprisonment; or\\n(b) on conviction thereof on indictment, be liable to imprisonment for a term not exceeding two years.\"\\nPart IV of the 1939 Act contains various provisions relating to the repression of unlawful activities, including, in section 30, the following provision relating to the arrest and detention of persons suspected of being concerned in unlawful activities:\\nSection 30:\\n\"(1) A member of the Gárda Síochána (if he is not in uniform on production of his identity card if demanded) may without warrant stop, search, interrogate, and arrest any person, or do any one or more of those things in respect of any person, whom he suspects of having committed or being about to commit or being or having been concerned in the commission of an offence under any section or sub-section of this Act, or an offence which is for the time being a scheduled offence for the purposes of Part V of this Act or whom he suspects of carrying a document relating to the commission or intended commission of any such offence as aforesaid.\\n(2) Any member of the Gárda Síochána (if he is not in uniform on production of his identity card if demanded) may, for the purpose of the exercise of any of the powers conferred by the next preceding sub-section of this section, stop and search (if necessary by force) any vehicle or any ship, boat, or other vessel which he suspects to contain a person whom he is empowered by the said sub-section to arrest without warrant.\\n(3) Whenever a person is arrested under this section, he may be removed to and detained in custody in a Gárda Síochána station, a prison, or some other convenient place for a period of twenty-four, hours from the time of his arrest and may, if an officer of the Gárda Síochána not below the rank of Chief Superintendent so directs, be so detained for a further period of twenty-four hours.\\n(4) A person detained under the next preceding sub-section of this section may, at any time during such detention, be charged before the District Court or a Special Criminal Court with an offence, or be released by direction of an officer of the Gárda Síochána, and shall, if not so charged or released, be released at the expiration of the detention authorised by the said sub-section.\\n(5) A member of the Gárda Síochána may do all or any of the following things in respect of a person detained under this section, that is to say:\\n(a) demand of such person his name and address;\\n(b) search such person or cause him to be searched;\\n(c) photograph such person or cause him to be photographed;\\n(d) take, or cause to be taken, the fingerprints of such person.\\n(6) Every person who shall obstruct or impede the exercise in respect of him by a member of the Gárda Síochána of any of the powers conferred by the next preceding sub-section of this section or shall fail or refuse to give his name and address or shall give, in response to any such demand, a name or an address which is false or misleading shall be guilty of an offence under this section and shall be liable on summary conviction thereof to imprisonment for a term not exceeding six months.\"\\nPart V of the 1939 Act is concerned with the establishment of \"Special Criminal Courts\" to try persons charged with offences under the Act.\\nLastly, Part VI of the 1939 Act contained provisions authorising any\\nMinister of State - once the Government had brought that Part of the Act into force - to order, in certain circumstances, the arrest and detention of any person whom he was satisfied was engaged in activities declared unlawful by the Act.\\n9. On 23rd June 1939, i.e. nine days after the entry into force of the Offences Against the State Act, the Government made an order under section 19 of the Act that the IRA, declared an \"unlawful organisation\", be dissolved.\\n10. About 70 persons were subsequently arrested and detained under Part VI of the Act. One of those persons brought an action in the High Court of Ireland, challenging the validity of his detention. The High Court declared the detention illegal and ordered the release of the person concerned by writ of habeas corpus.\\nThe Government had all the persons detained under the same clauses released forthwith.\\n11. Taking note of the High Court\\'s judgment, the Government tabled in Parliament a Bill to amend Part VI of the Offences against the State Act, 1939. The Bill, after being declared constitutional by the Supreme Court, was passed by Parliament on 9th February 1940, becoming the Offences against the State (Amendment) Act, 1940 (No. 2 of 1940).\\nThis Act No. 2 of 1940 confers on Ministers of State special powers of detention without trial, \"if and whenever and so often as the Government makes and publishes a proclamation declaring that the powers conferred by this Part of this Act are necessary to secure the preservation of public peace and order and that it is expedient that this Part of this Act should come into force immediately\" (section 3, sub-section (2) of the Act).\\nUnder section 3, sub-section (4) of the Act, however, a Government proclamation bringing into force the special powers of detention may be annulled at any time by a simple resolution of the Lower House of the Irish Parliament.\\nMoreover, under section 9 of the Act both Houses of Parliament must be kept fully informed, at regular intervals, of the manner in which the powers of detention have been exercised.\\n12. The powers of detention referred to in the Act are vested in Ministers of State. Section 4 of the Act provides as follows:\\n\"(1) Whenever a Minister of State is of opinion that any particular person is engaged in activities which, in his opinion, are prejudicial to the preservation of public peace and order or to the security of the State, such Minister may by warrant under his hand and sealed with his official seal order the arrest and detention of such person under this section.\\n(2) Any member of the Gárda Síochána may arrest without warrant any person in respect of whom a warrant has been issued by a Minister of State under the foregoing sub-section of this section.\\n(3) Every person arrested under the next preceding sub-section of this section shall be detained in a prison or other place prescribed in that behalf by regulations made under this Part of this Act until this Part of this Act ceases to be in force or until he is released under the subsequent provisions of this Part of this Act, whichever first happens.\\n(4) Whenever a person is detained under this section, there shall be furnished to such person, as soon as may be after he arrives at a prison or other place of detention prescribed in that behalf by regulations made under this Part of this Act, a copy of the warrant issued under this section in relation to such person and of the provisions of section 8 of this Act\".\\n13. Under section 8 of the Offences against the State (Amendment) Act, 1940, the Government is required to set up, as soon as conveniently may be after the entry into force of the powers of detention without trial, a Commission (hereinafter referred to as \"Detention Commission\") to which any person arrested or detained under the Act may apply, through the Government, to have his case considered. The Commission is to consist of three persons, appointed by the Government, one to be a commissioned officer of the Defence Forces with not less than seven years\\' service and each of the others to be a barrister or solicitor of not less than seven years\\' standing or a judge or former judge of one of the ordinary courts. Lastly, section 8 of the Act provides that, if the Commission reports that no reasonable grounds exist for the continued detention of the person concerned, such person shall, with all convenient speed, be released.\\nIV\\n14. After several years during which there was very little IRA activity, there was a renewed outbreak in 1954 and again in the second half of 1956.\\nIn the second half of December 1956 armed attacks were made on a number of Northern Ireland police barracks and at the end of the month a policeman was killed. In the same month a police patrol on border roads was fired on, trees were felled across roads and telephone wires cut, etc. In January 1957 there were more incidents of the same kind. At the beginning of the month there was an armed attack on Brookeborough Police Barracks during which two of the assailants were killed; both of them came from the 26-county area. Twelve others, of whom four were wounded, fled across the border and were arrested by the police of the Republic of Ireland. Thereupon, the Prime Minister of the Republic of Ireland, in a public broadcast address on 6th January 1957, made a pressing appeal to the public to put an end to these attacks.\\nSix days after this broadcast, namely, on 12th January 1957, the IRA carried out an armed raid on an explosives store in the territory of the Republic of Ireland, situated at Moortown, County Dublin, for the purpose of stealing explosives. On 6th May 1957, armed groups entered an explosives store at Swan Laois, held up the watchman and stole a quantity of explosives.\\nOn 18th April 1957, the main railway line from Dublin to Belfast was closed by an explosion which caused extensive damage to the railway bridge at Ayallogue in County Armagh, about 5 miles on the northern side of the border.\\nDuring the night of 25th-26th April, three explosions between Lurgan and Portadown, in Northern Ireland, also damaged the same railway line.\\nOn the night of 3rd/4th July a Northern Ireland police patrol on duty a short distance from the border was ambushed. One policeman was shot dead and another injured. At the scene of the ambush 87 sticks of gelignite were found to have been placed on the road and covered with stones, with wires leading to a detonator.\\nThis incident occurred only eight days before the annual Orange Processions which are widespread throughout Northern Ireland on 12th July. In the past, this date has been particularly critical for the maintenance of peace and public order.\\nV\\n15. The special powers of arrest and detention conferred upon the Ministers of State by the 1940 (Amendment) Act were brought into force on 8th July 1957 by a Proclamation of the Irish Government published in the Official Gazette on 5th July 1957.\\nOn 16th July 1957, the Government set up the Detention Commission provided for in section 8 of that Act and appointed as members of that Commission an officer of Defence Forces, a judge and a district Justice.\\n16. The Proclamation by which the Irish Government brought into force on 8th July 1957 the special powers of detention provided for in Part II of the 1940 Act (No. 2) read as follows:\\n\"The Government, in exercise of the powers conferred on them by sub-section (2) of section 3 of the Offences against the State (Amendment) Act, 1940, (No. 2 of 1940), hereby declare that the powers conferred by Part II of the said Act are necessary to secure the preservation of public peace and order and that it is expedient that the said part of the said Act should come into force immediately.\"\\n17. By letter of 20th July 1957 the Irish Minister for External Affairs informed the Secretary-General of the Council of Europe that Part II of the Offences against the State Act, 1940 (No. 2) had come into force on 8th July 1957.\\nParagraph 2 of that letter read as follows:\\n\"... Insofar as the bringing into operation of Part II of the Act, which confers special powers of arrest and detention, may involve any derogation from the obligations imposed by the Convention for the Protection of Human Rights and Fundamental Freedoms, I have the honour to request you to be good enough to regard this letter as informing you accordingly, in compliance with Article 15 (3) (art. 15-3) of the Convention.\"\\nThe letter pointed out that the detention of persons under the Act was considered necessary \"to prevent the commission of offences against public peace and order and to prevent the maintaining of military or armed forces other than those authorised by the Constitution.\"\\nThe Secretary-General\\'s attention was called to section 8 of the Act which provides for the establishment of a Commission to which any detained person can appeal. This Commission was set up on 16th July 1957.\\n18. Soon after the publication of the Proclamation of 5th July 1957 bringing into force the powers of detention provided for under the 1940 Act, the Prime Minister of the Government of the Republic of Ireland announced that the Government would release any person held under that Act who undertook \"to respect the Constitution and the laws of Ireland\" and \"to refrain from being a member of or assisting any organisation declared unlawful under the Offences against the State Act, 1939\".\\nVI\\n19. G.R. Lawless was first arrested with three other men on 21st September 1956 in a disused barn at Keshcarrigan, County Leitrim. The police discovered in the barn a Thompson machine-gun, six army rifles, six sporting guns, a revolver, an automatic pistol and 400 magazines. Lawless admitted that he was a member of the IRA and that he had taken part in an armed raid when guns and revolvers had been stolen. He was subsequently charged on 18th October with unlawful possession of firearms under the Firearms Act, 1935 and under Section 21 of the Offences against the State Act, 1939.\\nG.R. Lawless, together with the other accused, was sent forward for trial to the Dublin Circuit Criminal Court. On 23rd November 1956, they were acquitted of the charge of unlawful possession of arms. The trial judge had directed the jury that the requirements for proving the accussed\\'s guilt had not been satisfied in that it not been conclusively shown that no competent authority had issued a firearm certificate authorising him to be in possession of the arms concerned.\\nAt the hearing before this Court on 26th October, the District Justice asked one of the accused, Sean Geraghty, whether he wished to put any questions to any of the policemen present. Sean Geraghty replied as follows:\\n\"As a soldier of the Irish Republican Army and as leader of these men, I do not wish to have any part in proceedings in this Court.\"\\nWhen asked by the Justice whether he pleaded guilty or not guilty to the charge, he again said:\\n\"On behalf of my comrades and myself I wish to state that any arms and ammunition found on us were to be used against the British Forces of occupation to bring about the re-unification of our country and no Irishman or woman of any political persuasion had anything to fear from us. We hold that it is legal to possess arms and also believe it is the duty of every Irishman to bear arms in defence of his country.\"\\nSubsequently, G.R. Lawless in reply to a question by the Justice said: \"Sean Geraghty spoke for me.\"\\nLawless was again arrested in Dublin on 14th May 1957 under section 30 of the 1939 Act, on suspicion of engaging in unlawful activities. A sketch map for an attack of certain frontier posts between the Irish Republic and Northern Ireland was found on him bearing the inscription \"Infiltrate, annihilate and destroy.\"\\nOn the same day his house was searched by the police who found a manuscript document on guerrilla warfare containing, inter alia, the following statements:\\n\"The resistance movement is the armed vanguard of the Irish people fighting for the freedom of Ireland. The strength of the movement consists in the popular patriotic character of the movement. The basic mission of local resistance units are the destruction of enemy installations and establishments that is TA halls, special huts, BA recruiting offices, border huts, depots, etc.\\nAttacks against enemy aerodromes and the destruction of aircraft hangars, depots of bombs and fuel, the killing of key flying personnel and mechanics, the killing or capture of high-ranking enemy officers and high officials of the enemy\\'s colonial Government and traitors to our country in their pay, that is, British officers, police agents, touts, judges, high members of the Quisling party, etc.\"\\nAfter being arrested, G.R. Lawless was charged:\\n(a) with possession of incriminating documents contrary to section 12 of the 1939 Act;\\n(b) with membership of an unlawful organisation, the IRA, contrary to section 21 of the 1939 Act.\\nOn 16th May 1957, G.R. Lawless was brought before the Dublin District Court together with three other men who were also charged with similar offences under the 1939 Act. The Court convicted Lawless on the first charge and sentenced him to one month\\'s imprisonment; it acquitted him on the second charge. The Court record showed that the second charge was dismissed \"on the merits\" of the case but no official report of the proceedings appears to be available. The reasons for this acquittal were not clearly established. G.R. Lawless was released on about 16th June 1957, after having served his sentence in Mountjoy Prison, Dublin.\\n20. G.R. Lawless was re-arrested on 11th July 1957 at Dun Laoghaire by Security Officer Connor when about to embark on a ship for England. He was detained for 24 hours at Bridewell Police Station in Dublin under section 30 of the 1939 Act, as being a suspected member of an unlawful organisation, namely the IRA.\\nDetective-Inspector McMahon told the Applicant on the same day that he would be released provided that he signed an undertaking in regard to his future conduct. No written form of the undertaking proposed was put to G.R. Lawless and its exact terms are in dispute.\\nOn 12th July 1957, the Chief Superintendent of Police, acting under section 30, sub-section 3 of the 1939 Act, made an order that G.R. Lawless be detained for a further period of 24 hours expiring at 7.45 p.m. on 13th July 1957.\\nAt 6 a.m. on 13th July 1957, however, before Lawless\\' detention under section 30 of the 1939 Act had expired, he was removed from the Bridewell Police Station and transferred to the military prison in the Curragh, Co. Kildare (known as the \"Glass House\"). He arrived there at 8 a.m. on the same day and was detained from that time under an order made on 12th July 1957 by the Minister for Justice under section 4 of the 1940 Act. Upon his arrival at the \"Glass House\", he was handed a copy of the above-mentioned detention order in which the Minister for Justice declared that G.R. Lawless was, in his opinion, engaged in activities prejudicial to the security of the State and he ordered his arrest and detention under section 40 of the 1940 Act.\\nFrom the \"Glass House\", G.R. Lawless was transferred on 17th July 1957 to a camp known as the \"Curragh Internment Camp\", which forms part of the Curragh Military Camp and Barracks in County Kildare, and together with some 120 other persons, was detained there without charge or trial until 11th December 1957 when he was released.\\n21. On 16th August 1957 G.R. Lawless was informed that he would be released provided he gave an undertaking in writing \"to respect the Constitution and laws of Ireland\" and not to \"be a member of or assist any organisation which is an unlawful organisation under the Offences against the State Act, 1939.\" G.R. Lawless declined to give this undertaking.\\n22. On 8th September 1957 G.R. Lawless exercised the right, conferred upon him by section 8 of the 1940 Act, to apply to have the continuation of his detention considered by the Detention Commission set up under the same section of that Act. He appeared before that Commission on 17th September 1957 and was represented by counsel and solicitors. The Detention Commission, sitting for the first time, adopted certain rules of procedure and adjourned until 20th September.\\n23. On 18th September 1957, however, G.R. Lawless\\' counsel also made an application to the Irish High Court, under Article 40 of the Irish Constitution, for a Conditional Order of habeas corpus ad subjiciendum. The object of the application was that the Court should order the Commandant of the detention camp to bring G.R. Lawless before the Court in order that it might examine and decide upon the validity of detention. A Conditional Order of habeas corpus would have the effect of requiring the Commandant to \"show cause\" to the High Court why he should not comply with that Order.\\nThe Conditional Order was granted on the same date and was served on the Commandant giving him a period of four days to \"show cause\". It was also served upon the Detention Commission. The Detention Commission sat on 20th September 1957, and decided to adjourn the hearing sine die pending the outcome of the habeas corpus application.\\n24. G.R. Lawless then applied, by a motion to the High Court, to have the Conditional Order made \"absolute\", notwithstanding the fact that the Commandant of the Detention Camp had in the meantime \"shown cause\" opposing this application. The Commandant had, in this connection, relied upon the order for the Applicant\\'s detention which had been made by the Minister for Justice.\\nThe High Court sat from 8th to 11th October 1957 and heard full legal submissions by counsel for both parties. On 11th October it gave judgment allowing the \"cause shown\" by the camp Commandant to justify detention. The habeas corpus application was therefore dismissed.\\n25. On 14th October 1957 G.R. Lawless appealed to the Supreme Court, invoking not only the Constitution and laws of Ireland but also the European Convention of Human Rights. On 6th November the Supreme Court dismissed G.R. Lawless\\' appeal. It gave its reasoned judgment on 3rd December 1957.\\nThe main grounds of the Supreme Court\\'s judgment were as follows:\\n(a) The 1940 Act, when in draft form as a Bill, had been referred to the Supreme Court for decision as to whether it was repugnant to the Irish Constitution. The Supreme Court had decided that it was not repugnant and Article 34 (3) 3 of the Constitution declared that no court had competence to question the constitutional validity of a law which had been approved as a Bill by the Supreme Court.\\n(b) The Oireachtas (i.e. the Parliament) which was the sole legislative authority had not introduced legislation to make the Convention of Human Rights part of the municipal law of Ireland. The Supreme Court could not, therefore, give effect to the Convention if it should appear to grant rights other than, or supplementary to, those provided under Irish municipal law.\\n(c) The appellant\\'s period of detention under section 30 of the 1939 Act was due to expire at 7.45 p.m. on 13th July 1957. At that time he was already being detained under another warrant issued by the Minister for Justice and his detention without release was quite properly continued under the second warrant.\\n(d) The appellant had not established a prima facie case in regard to his allegation that he had not been told the reason for his arrest under the Minister\\'s warrant. An invalidity in the arrest, even if established, would not, however, have rendered his subsequent detention unlawful whatever rights it might otherwise have given the appellant under Irish law.\\n(e) The Court had already decided, when considering the 1940 Act as a Bill, that it had no power to question the opinion of a Minister who issued a warrant for detention under section 4 of that Act.\\n(f) The appellant in the habeas corpus proceedings before the High Court had challenged the legality of the constitution of the Detention Commission. Even if it was shown that the Commission\\'s rulings on various procedural matters were wrong, that would not make the appellant\\'s detention unlawful nor would it provide a basis for an application for habeas corpus. Section 8 of the 1940 Act showed that the Commission was not a court and an application before it was not a form of proceedings but no more than an enquiry of an administrative character.\\n26. Meanwhile, on 8th November 1957 - that is two days after the announcement of the Supreme Court\\'s rejection of his appeal - G.R. Lawless had introduced his Application before the European Commission of Human Rights, alleging that his arrest and detention under the 1940 Act, without charge or trial, violated the Convention and he claimed:\\n(a) immediate release from detention;\\n(b) payment of compensation and damages for his detention;\\nand\\n(c) payment of all the costs and expenses of, and incidental to the proceedings instituted by him in the Irish courts and before the Commission to secure his release.\\n27. Shortly afterwards the Detention Commission resumed its consideration of the case of G.R. Lawless under section 8 of the 1940 Act and held hearings for that purpose on 6th and 10th December 1957. On the latter date, at the invitation of the Attorney-General, G.R. Lawless in person before the Detention Commission gave a verbal undertaking that he would not \"engage in any illegal activities under the Offences against the State Acts, 1939 and 1940\", and on the following day an order was made by the Minister for Justice, under section 6 of the 1940 Act, releasing the Applicant from detention.\\n28. The release of G.R. Lawless from detention was notified to the European Commission of Human Rights by his solicitor in a letter dated 16th December 1957. The letter at the same time stated that G.R. Lawless intended to continue the proceedings before the Commission with regard to (a) the claim for compensation and damages for his detention and (b) the claim for reimbursement of all costs and expenses in connection with the proceedings undertaken to obtain his release.\\nVII\\n29. At the written and oral proceedings before the Court, the European Commission of Human Rights and the Irish Government made the following submissions:\\nThe Commission, in its Memorial of 27th June 1960:\\n\"May it please the Court to take into consideration the findings of the Commission in its Report on the case of Gerard Richard Lawless and\\n (1) to decide:\\n(a) whether or not the detention of the Applicant without trial from 13th July to 11th December 1957 under section 4 of the Offences against the State (Amendment) Act, 1940, was in conflict with the obligations of the Respondent Government under Articles 5 and 6 (art. 5, art. 6) of the Convention;\\n(b) whether or not such detention was in conflict with the obligations of the Respondent Government under Article 7 (art. 7) of the Convention;\\n(2) if such detention was in conflict with the obligations of the Respondent Government under Articles 5 and 6 (art. 5, art. 6) of the Convention, to decide:\\n(a) whether or not the Government\\'s letter to the Secretary-General of 20th July 1957 was a sufficient communication for the purposes of Article 15, paragraph (3) (art. 15-3) of the Convention;\\n(b) whether or not, from 13th July to 11th December 1957, there existed a public emergency threatening the life of the nation, within the meaning of Article 15, paragraph (1) (art. 15-1) of the Convention;\\n(c) if such an emergency did exist during that period, whether or not the measure of detaining persons without trial under section 4 of the 1940 Act, as it was applied by the Government, was a measure strictly required by the exigencies of the situation;\\n(3) to decide whether or not the Applicant is, in any event, precluded by Article 17 (art. 17) of the Convention from invoking the provisions of Articles 5, 6 and 7 (art. 5, art. 6, art. 7);\\n(4) in the light of its decisions on the questions in paragraphs 1-3 of these submissions, to adjudge and declare:\\n(a) whether or not the facts disclose any breach by the Respondent Government of its obligations under the Convention;\\n(b) if so, what compensation, if any, is due to the Applicant in respect of the breach.\"\\n30. The Agent of the Irish Government, at the public hearing on 10th April 1961:\\n\"May it please the Court to decide and declare that the answers to the questions contained in paragraph 58 of the Commission\\'s Memorial of 27th June 1960 are as follows:\\n1.\\n(a) That the detention of the Applicant was not in conflict with the obligations of the Government under Articles 5 and 6 (art. 5, art. 6) of the Convention.\\n(b) That such detention was not in conflict with the obligations of the Government under Article 7 (art. 7) of the Convention.\\n2.\\n(a) That the Government\\'s letter of 20th July 1957 was a sufficient communication for the purposes of paragraph (3) of Article 15 (art. 15-3) of the Convention or, alternatively, that in the present case, the Government are not by any of the provisions of the said paragraph (3) (art. 15-3) deprived from relying on paragraph (1) of Article 15 (art. 15-1).\\n(b) That from 13th July 1957 to 11th December 1957 there did exist a public emergency threatening the life of the nation, within the meaning of Article 15, paragraph (1) (art. 15-1), of the Convention.\\n(c) That the measure of detaining persons without trial, as it was applied by the Government, was a measure strictly required by the exigencies of the situation.\\n3. That the Applicant is in any event precluded by Article 17 (art. 17) of the Convention from invoking the provisions of Articles 5, 6 and 7 (art. 5, art. 6, art. 7) of the Convention.\\n4.\\n(a) That the facts do not disclose any breach by the Government of their obligations under the Convention.\\n(b) That, by reason of the foregoing, no question of compensation arises.\"'"
            ],
            "application/vnd.google.colaboratory.intrinsic+json": {
              "type": "string"
            }
          },
          "metadata": {},
          "execution_count": 6
        }
      ],
      "source": [
        "dataset.loc[2,'facts']"
      ]
    },
    {
      "cell_type": "markdown",
      "metadata": {
        "id": "_jdwvzZpbICi"
      },
      "source": [
        "To look at the full url you can use: `dataset.loc[2,'url']`\n",
        "\n",
        "For verdict: `dataset.loc[2,'verdict']` , etc."
      ]
    },
    {
      "cell_type": "markdown",
      "metadata": {
        "id": "W-WyzvOw2Wg5"
      },
      "source": [
        "###Select data"
      ]
    },
    {
      "cell_type": "markdown",
      "metadata": {
        "id": "ctv9xsfidDwP"
      },
      "source": [
        "We do not need all the data in the table for predicting court decisions. So it is easier to navigate let's make a new table with only the fact of the cases, which we are going to use as input, let's also keep the date of the judgement and the verdict, which will be the label.\n",
        "\n",
        "**AT HOME**: Whould you want to choose other columns, which ones, why?\n",
        "\n",
        "Not all rows in the table have all information (i.e., fact, date, verdict), There are many ways to deal with this, today, we are just goin to drop the rows which don't have all of the variables."
      ]
    },
    {
      "cell_type": "code",
      "execution_count": 7,
      "metadata": {
        "id": "83UfOoXhUAA7"
      },
      "outputs": [],
      "source": [
        "facts_dataset = (pd.DataFrame()\n",
        "                .assign(Date=dataset['kpdate'],           #keep the date column, so we can sort the data based on when the judgement was made\n",
        "                        Facts=dataset['facts'],           #keep the 'facts' column - this will be our main input\n",
        "                        Violation=dataset['violation'])   #keep the 'violaiton' column - this will be our label\n",
        "                .dropna()                                 #drop every row where at least one element is missing\n",
        "                .reset_index(drop=True))                  #resent the index of the table after removing the rows"
      ]
    },
    {
      "cell_type": "markdown",
      "metadata": {
        "id": "lry6vYque6sy"
      },
      "source": [
        "Note that we re-named some the columns, they are now called `'Date'`, `'Facts'` and `'Violation'`"
      ]
    },
    {
      "cell_type": "markdown",
      "metadata": {
        "id": "Gw41gzE-YvCH"
      },
      "source": [
        "Let's see what the dataset with just selected columns looks like. How many cases in it now?"
      ]
    },
    {
      "cell_type": "code",
      "execution_count": 8,
      "metadata": {
        "id": "zCkyLEOCS2BJ",
        "colab": {
          "base_uri": "https://localhost:8080/",
          "height": 424
        },
        "outputId": "7fb0a476-58b6-41a9-dfac-eba8846f1257"
      },
      "outputs": [
        {
          "output_type": "execute_result",
          "data": {
            "text/plain": [
              "             Date                                              Facts  \\\n",
              "0      1960-11-14  The purpose of the Commission's Request - to w...   \n",
              "1      1961-07-01  I\\n1. The purpose of the Commission's request ...   \n",
              "2      1967-02-09  1.  The object of the Commission’s request is ...   \n",
              "3      1968-06-27  1. The object of the Commission’s request is t...   \n",
              "4      1968-06-27  1.  The object of the request of the Commissio...   \n",
              "...           ...                                                ...   \n",
              "14532  2020-11-26  4.  The list of the applications with the rele...   \n",
              "14533  2020-11-26  3.  The applicant’s details and information re...   \n",
              "14534  2020-11-26  3.  The list of the applications with the rele...   \n",
              "14535  2020-11-26  3.  The list of applicants and the relevant de...   \n",
              "14536  2020-11-26  3.  The list of applicants and the relevant de...   \n",
              "\n",
              "       Violation  \n",
              "0              0  \n",
              "1              0  \n",
              "2              0  \n",
              "3              0  \n",
              "4              1  \n",
              "...          ...  \n",
              "14532          1  \n",
              "14533          1  \n",
              "14534          1  \n",
              "14535          1  \n",
              "14536          1  \n",
              "\n",
              "[14537 rows x 3 columns]"
            ],
            "text/html": [
              "\n",
              "  <div id=\"df-2931ccd6-44b5-4cf9-978b-6c20724e7807\">\n",
              "    <div class=\"colab-df-container\">\n",
              "      <div>\n",
              "<style scoped>\n",
              "    .dataframe tbody tr th:only-of-type {\n",
              "        vertical-align: middle;\n",
              "    }\n",
              "\n",
              "    .dataframe tbody tr th {\n",
              "        vertical-align: top;\n",
              "    }\n",
              "\n",
              "    .dataframe thead th {\n",
              "        text-align: right;\n",
              "    }\n",
              "</style>\n",
              "<table border=\"1\" class=\"dataframe\">\n",
              "  <thead>\n",
              "    <tr style=\"text-align: right;\">\n",
              "      <th></th>\n",
              "      <th>Date</th>\n",
              "      <th>Facts</th>\n",
              "      <th>Violation</th>\n",
              "    </tr>\n",
              "  </thead>\n",
              "  <tbody>\n",
              "    <tr>\n",
              "      <th>0</th>\n",
              "      <td>1960-11-14</td>\n",
              "      <td>The purpose of the Commission's Request - to w...</td>\n",
              "      <td>0</td>\n",
              "    </tr>\n",
              "    <tr>\n",
              "      <th>1</th>\n",
              "      <td>1961-07-01</td>\n",
              "      <td>I\\n1. The purpose of the Commission's request ...</td>\n",
              "      <td>0</td>\n",
              "    </tr>\n",
              "    <tr>\n",
              "      <th>2</th>\n",
              "      <td>1967-02-09</td>\n",
              "      <td>1.  The object of the Commission’s request is ...</td>\n",
              "      <td>0</td>\n",
              "    </tr>\n",
              "    <tr>\n",
              "      <th>3</th>\n",
              "      <td>1968-06-27</td>\n",
              "      <td>1. The object of the Commission’s request is t...</td>\n",
              "      <td>0</td>\n",
              "    </tr>\n",
              "    <tr>\n",
              "      <th>4</th>\n",
              "      <td>1968-06-27</td>\n",
              "      <td>1.  The object of the request of the Commissio...</td>\n",
              "      <td>1</td>\n",
              "    </tr>\n",
              "    <tr>\n",
              "      <th>...</th>\n",
              "      <td>...</td>\n",
              "      <td>...</td>\n",
              "      <td>...</td>\n",
              "    </tr>\n",
              "    <tr>\n",
              "      <th>14532</th>\n",
              "      <td>2020-11-26</td>\n",
              "      <td>4.  The list of the applications with the rele...</td>\n",
              "      <td>1</td>\n",
              "    </tr>\n",
              "    <tr>\n",
              "      <th>14533</th>\n",
              "      <td>2020-11-26</td>\n",
              "      <td>3.  The applicant’s details and information re...</td>\n",
              "      <td>1</td>\n",
              "    </tr>\n",
              "    <tr>\n",
              "      <th>14534</th>\n",
              "      <td>2020-11-26</td>\n",
              "      <td>3.  The list of the applications with the rele...</td>\n",
              "      <td>1</td>\n",
              "    </tr>\n",
              "    <tr>\n",
              "      <th>14535</th>\n",
              "      <td>2020-11-26</td>\n",
              "      <td>3.  The list of applicants and the relevant de...</td>\n",
              "      <td>1</td>\n",
              "    </tr>\n",
              "    <tr>\n",
              "      <th>14536</th>\n",
              "      <td>2020-11-26</td>\n",
              "      <td>3.  The list of applicants and the relevant de...</td>\n",
              "      <td>1</td>\n",
              "    </tr>\n",
              "  </tbody>\n",
              "</table>\n",
              "<p>14537 rows × 3 columns</p>\n",
              "</div>\n",
              "      <button class=\"colab-df-convert\" onclick=\"convertToInteractive('df-2931ccd6-44b5-4cf9-978b-6c20724e7807')\"\n",
              "              title=\"Convert this dataframe to an interactive table.\"\n",
              "              style=\"display:none;\">\n",
              "        \n",
              "  <svg xmlns=\"http://www.w3.org/2000/svg\" height=\"24px\"viewBox=\"0 0 24 24\"\n",
              "       width=\"24px\">\n",
              "    <path d=\"M0 0h24v24H0V0z\" fill=\"none\"/>\n",
              "    <path d=\"M18.56 5.44l.94 2.06.94-2.06 2.06-.94-2.06-.94-.94-2.06-.94 2.06-2.06.94zm-11 1L8.5 8.5l.94-2.06 2.06-.94-2.06-.94L8.5 2.5l-.94 2.06-2.06.94zm10 10l.94 2.06.94-2.06 2.06-.94-2.06-.94-.94-2.06-.94 2.06-2.06.94z\"/><path d=\"M17.41 7.96l-1.37-1.37c-.4-.4-.92-.59-1.43-.59-.52 0-1.04.2-1.43.59L10.3 9.45l-7.72 7.72c-.78.78-.78 2.05 0 2.83L4 21.41c.39.39.9.59 1.41.59.51 0 1.02-.2 1.41-.59l7.78-7.78 2.81-2.81c.8-.78.8-2.07 0-2.86zM5.41 20L4 18.59l7.72-7.72 1.47 1.35L5.41 20z\"/>\n",
              "  </svg>\n",
              "      </button>\n",
              "      \n",
              "  <style>\n",
              "    .colab-df-container {\n",
              "      display:flex;\n",
              "      flex-wrap:wrap;\n",
              "      gap: 12px;\n",
              "    }\n",
              "\n",
              "    .colab-df-convert {\n",
              "      background-color: #E8F0FE;\n",
              "      border: none;\n",
              "      border-radius: 50%;\n",
              "      cursor: pointer;\n",
              "      display: none;\n",
              "      fill: #1967D2;\n",
              "      height: 32px;\n",
              "      padding: 0 0 0 0;\n",
              "      width: 32px;\n",
              "    }\n",
              "\n",
              "    .colab-df-convert:hover {\n",
              "      background-color: #E2EBFA;\n",
              "      box-shadow: 0px 1px 2px rgba(60, 64, 67, 0.3), 0px 1px 3px 1px rgba(60, 64, 67, 0.15);\n",
              "      fill: #174EA6;\n",
              "    }\n",
              "\n",
              "    [theme=dark] .colab-df-convert {\n",
              "      background-color: #3B4455;\n",
              "      fill: #D2E3FC;\n",
              "    }\n",
              "\n",
              "    [theme=dark] .colab-df-convert:hover {\n",
              "      background-color: #434B5C;\n",
              "      box-shadow: 0px 1px 3px 1px rgba(0, 0, 0, 0.15);\n",
              "      filter: drop-shadow(0px 1px 2px rgba(0, 0, 0, 0.3));\n",
              "      fill: #FFFFFF;\n",
              "    }\n",
              "  </style>\n",
              "\n",
              "      <script>\n",
              "        const buttonEl =\n",
              "          document.querySelector('#df-2931ccd6-44b5-4cf9-978b-6c20724e7807 button.colab-df-convert');\n",
              "        buttonEl.style.display =\n",
              "          google.colab.kernel.accessAllowed ? 'block' : 'none';\n",
              "\n",
              "        async function convertToInteractive(key) {\n",
              "          const element = document.querySelector('#df-2931ccd6-44b5-4cf9-978b-6c20724e7807');\n",
              "          const dataTable =\n",
              "            await google.colab.kernel.invokeFunction('convertToInteractive',\n",
              "                                                     [key], {});\n",
              "          if (!dataTable) return;\n",
              "\n",
              "          const docLinkHtml = 'Like what you see? Visit the ' +\n",
              "            '<a target=\"_blank\" href=https://colab.research.google.com/notebooks/data_table.ipynb>data table notebook</a>'\n",
              "            + ' to learn more about interactive tables.';\n",
              "          element.innerHTML = '';\n",
              "          dataTable['output_type'] = 'display_data';\n",
              "          await google.colab.output.renderOutput(dataTable, element);\n",
              "          const docLink = document.createElement('div');\n",
              "          docLink.innerHTML = docLinkHtml;\n",
              "          element.appendChild(docLink);\n",
              "        }\n",
              "      </script>\n",
              "    </div>\n",
              "  </div>\n",
              "  "
            ]
          },
          "metadata": {},
          "execution_count": 8
        }
      ],
      "source": [
        "facts_dataset"
      ]
    },
    {
      "cell_type": "markdown",
      "metadata": {
        "id": "hT3lsic1ZPQx"
      },
      "source": [
        "\n",
        "Let's look at our data more carefully. \n",
        "\n",
        "**AT HOME**: Experiment with printing the facts of different cases, and their verdicts, could you guess the court's decision based on the facts?"
      ]
    },
    {
      "cell_type": "code",
      "execution_count": 9,
      "metadata": {
        "id": "BIo8f-j7rSaJ",
        "colab": {
          "base_uri": "https://localhost:8080/"
        },
        "outputId": "b7fcf5d8-5c06-443f-a458-747bbd7a9293"
      },
      "outputs": [
        {
          "output_type": "stream",
          "name": "stdout",
          "text": [
            "Facts of the case:\n",
            " 1. Particular facts of the case\n",
            "(a) The applicant’s convictions and appeals\n",
            "8. Mr. Ettore Artico, an Italian citizen born in 1917, is an accountant by profession.\n",
            "On 27 January 1965, Mr. Artico was sentenced by the Verona District Judge (pretore) to eighteen months’ imprisonment and a fine for simple fraud (truffa semplice). A further sentence of eleven months’ imprisonment and a fine for repeated fraud (truffa con recidiva), impersonation (sostituzione di persona) and uttering worthless cheques was imposed on him by that Judge on 6 October 1970. These various offences had been committed in May/June 1964. Appeals lodged by the applicant on 28 January 1965 and 11 December 1970 were rejected on 16 December 1969 and 17 April 1971, respectively, by the Verona Criminal Court; it dealt with both cases in Mr. Artico’s absence.\n",
            "On 11 October and 13 November 1971, the pretore issued committal warrants to enforce the two prison sentences. The warrants were served on the applicant on 22 December 1971; he had, in fact, been arrested on 8 December in connection with other offences.\n",
            "9. On 25/26 December 1971, Mr. Artico, who was then in Brindisi prison, appealed once more to the Criminal Court against both of the decisions of the pretore. He claimed to be unaware of the Criminal Court’s judgments and accordingly filed with the appeals applications to quash (ricorsi per cassazione), inter alia, \"any decision given on appeal\" (\"la eventuale sentenza di secondo grado\"). The fact that the cases had been dealt with in Mr. Artico’s absence was the basic target of these applications: they challenged in particular the regularity of both the procedure followed as regards the service of various documents and declarations to the effect that the applicant was untraceable (decreto di irreperibilità; Article 170 of the Code of Criminal Procedure).\n",
            "By two Orders of 6 March 1972, the Criminal Court declared the appeals inadmissible on the ground that they were directed against decisions that had already been the subject of appeals. At the same time, the Criminal Court, for reasons of jurisdiction, transmitted the applications to quash to the Court of Cassation.\n",
            "10. On 10 and 14/15 March, Mr. Artico, who was then in Venice prison, filed declarations with the latter Court setting out his further arguments. Although this was not mentioned amongst the principal grounds invoked, the declarations concluded with a new request: the offences covered by the decisions of the pretore should be declared to have been extinguished as a result of statutory limitation (prescrizione; Articles 157 et seq. of the Criminal Code) in November/December 1971, since by that date the statutory period of seven years and six months had elapsed.\n",
            "In pleadings dated 3 and 10 July 1973, which dealt only with the alleged procedural irregularity and not with the issue of statutory limitation, the public prosecutor (pubblico ministero) submitted that Mr. Artico’s applications were manifestly ill-founded.\n",
            "By two Orders (ordinanze) of 12 November 1973, the Court of Cassation, sitting in chambers, declared the applications inadmissible on the ground that there had been no procedural irregularity; it dit not, however, advert to the question of statutory limitation.\n",
            "11. During 1975, Mr. Artico, relying once more on the issue of statutory limitation, filed with the Court of Cassation an appeal (istanza di revisione) against the decisions of 27 January 1965 and 6 October 1970 which had been confirmed by the Criminal Court on 16 December 1969 and 17 April 1971. By judgment of 5 August 1975, the Court of Cassation held that the offences of simple fraud, impersonation and uttering worthless cheques had been extinguished by statutory limitation. Accordingly, the Verona Criminal Court’s judgments were quashed but not, in the case of that of 1971, as regards the offence of repeated fraud.\n",
            "At the same time, the Court declared a request by the applicant for provisional release to be inadmissible on the ground that it had not been established that his detention stemmed from the decisions that were under appeal.\n",
            "12. Mr. Artico was, however, released on 23 August 1975 pursuant to a directive (provvedimento) issued on the same date by the Milan public prosecutor’s department (procura della Repubblica). The directive, after referring to the 1975 judgment of the Court of Cassation, re-calculated at two years and eight months the total period of imprisonment due to be served in respect of the offence of repeated fraud and various other offences; as the applicant had been in prison since 8 December 1971, the period had already expired on 7 August 1974.\n",
            "An application by Mr. Artico for compensation for wrongful detention was dismissed by the Court of Cassation on 4 November 1977 on the ground that it had been lodged out of time.\n",
            "In a directive issued by the Ferrara public prosecutor (procuratore della Repubblica) on 15 March 1978, another re-calculation was made of the period of imprisonment due to be served by the applicant for various offences; the detention which he had undergone \"unduly\" (\"indebitamente\") from 8 August 1974 to 23 August 1975 was set off against other sentences.\n",
            "b) The applicant’s free legal aid\n",
            "13. Mr. Artico, who had originally been represented by a lawyer of his own choice, Mr. Ferri, included in his declaration of 10 March 1972 to the Court of Cassation a request for free legal aid in connection with the applications to quash. This request was granted on 8 August 1972 by the President of the Second Criminal Section (\"the Section President\") who appointed for the purpose Mr. Della Rocca, a lawyer from Rome.\n",
            "14. On 4 September, Mr. Artico wrote to the Section President and the public prosecutor (procuratore generale) attached to the Court of Cassation (\"the Cassation prosecutor\") to inform them that he had heard nothing from Mr. Della Rocca and to request that steps be taken to provide effective assistance. By letter of 8 September, Mr. Della Rocca advised the applicant that it was only on his return from holiday that he had learned of the appointment, stated that other commitments prevented him from accepting it and gave the name of a colleague whose services he strongly recommended the applicant to utilise. On 10 October, Mr. Artico asked Mr. Della Rocca to apply for the appointment of a substitute in accordance with the procedure laid down by law. In a letter of 18 January 1973 to the applicant, the lawyer said that on 17 October he had submitted to the Section President a formal request (istanza) to that effect, indicating therein that for health reasons he was unable to undertake a task which he described as very demanding and onerous (molto impegnative e gravi); he considered that in this way he had fulfilled his obligations and expressed the wish to be left in peace.\n",
            "On 30 January 1973, the applicant wrote to the Section President and the Cassation prosecutor requesting Mr. Della Rocca’s replacement and enclosing a copy of the latter’s letter to him of 18 January. The registry of the Court of Cassation apparently replied on 26 February with a note to the effect that Mr. Della Rocca was still acting since a lawyer appointed for legal aid purposes was not in law entitled to refuse the appointment. On 6 March, Mr. Artico – who referred as on subsequent occasions to various statutory texts - sent to the Cassation prosecutor a complaint requesting, in addition to Mr. Della Rocca’s replacement, the imposition on him of criminal and disciplinary sanctions; no action seems to have been taken on this complaint, a copy whereof had been sent to the Section President. On 12 March, the applicant wrote to the Senior President of the Court of Cassation, inter alia, to draw his attention to the lack of legal assistance and to seek his intervention. By a telegram of 4 May the registry advised the applicant that Mr. Della Rocca had not been replaced and that the applications to quash were still with the public prosecutor’s department. Three days later Mr. Artico wrote again to the Cassation prosecutor to complain, amongst other things, of the absence of a substitute counsel and, on 6 June, the registry sent to the applicant a telegram worded similarly to the previous one. By letter of 19 June to the Cassation prosecutor, a copy of which was sent to the Section President, Mr. Artico emphasised the situation’s serious consequences for the defence and once more requested the appointment of another lawyer.\n",
            "15. By notification dated 25 September, the registry of the Court of Cassation informed Mr. Della Rocca that the case was due to be heard on 12 November 1973. On 5 October, the registry sent to Mr. Artico, in reply to his telegram, a telegram advising him of the date of the hearing and that the lawyer had not been replaced. Letters dated 6 October from the applicant to the Section President and the Cassation prosecutor, which referred to several earlier communications of a similar nature, complained of Mr. Della Rocca’s attitude and of the authorities’ failure to act and contained a further request for replacement. On 2 November, Mr. Artico submitted to the Section President, with a copy to the Cassation prosecutor, the last of such requests, alleging a violation of the rights of the defence and asking for an adjournment of the hearing; however, this request did not reach the Court of Cassation until 20 December whereas it had already declared the applications to quash inadmissible on 12 November (see paragraph 10 above).\n",
            "2. Relevant provisions of domestic law\n",
            "(a) Applications to quash made to the Court of Cassation\n",
            "16. Under Article 524 of the Code of Criminal Procedure:\n",
            "\"An application to quash may be made to the Court of Cassation on the following grounds:\n",
            "1) failure to observe or erroneous application of the criminal law ...;\n",
            "2) exercise by a court of a power reserved by law to legislative or administrative bodies or not granted to the State authorities;\n",
            "3) failure to observe the rules of the present Code in cases where it is stipulated that non-observance shall result in nullity, inadmissibility or estoppel.\n",
            " ...\n",
            "An application shall be inadmissible if made on grounds which are not prescribed by law or are manifestly ill-founded.\"\n",
            "17. Article 531 provides as follows:\n",
            "\"When a ground on which the application would be inadmissible is pleaded by a party or is raised ex officio, the question shall be decided as a preliminary point by the Court of Cassation sitting in chambers ...\n",
            " ...\n",
            "In all the aforesaid cases, the Court shall rule on the matter, having regard to the public prosecutor’s written pleadings, without the intervention of defence lawyers.\n",
            "However, in the cases contemplated in the final paragraph of Article 524, the public prosecutor’s pleading shall be filed at the registry of the Court and notice of the said filing shall be given forthwith to the applicant’s lawyer. The latter shall be entitled to submit, within fifteen days of the notification, to the President of the Section seised of the matter a written request that the application be heard in open court. If such a request is presented, the Court shall sit in public.\n",
            "If the applicant has not appointed a lawyer, the aforesaid notice shall be given to the lawyer officially appointed for that purpose by the President.\"\n",
            "(b) Free legal aid\n",
            "18. Free legal aid is governed, inter alia, by the provisions of Royal Decree (Regio Decreto) no. 3282 of 30 December 1923.\n",
            "In criminal matters, legal aid is available as of right to anyone who is in a \"state of poverty\" (\"stato di povertà\"; Article 15), which phrase is to be interpreted as meaning inability to meet the expenses involved (Article 16). The decision affording legal aid is taken by the president of the trial court (Article 15; see also Article 3 of Royal Decree no. 602 of 28 May 1931). Once granted, it is the judicial authority seised of the case which nominates the lawyer who is to act for the person concerned (Article 29 of the 1923 Decree). The prosecuting authorities or the court president may cause a substitute lawyer to be designated either on their own initiative, where there are serious reasons, or if the original lawyer \"establishes legitimate grounds which oblige him to abstain, or entitle him to be excused, from acting\" (Article 32). Similarly, Article 128 of the Code of Criminal Procedure provides that an officially appointed lawyer may be replaced \"for a justified reason\".\n",
            "Article 5 of Royal Decree no. 602 of 28 May 1931 stipulates that any defence lawyer who is unable to act must supply a written statement of the reasons therefore; even after such a declaration has been made and for so long as he has not been replaced, the lawyer must fulfil the obligations of his office.\n",
            "An assisted party loses the benefit of legal aid if he instructs a lawyer of his own choice (Article 128 of the Code of Criminal Procedure).\n",
            "In general, legal aid comes under the supervision of the prosecuting authorities; they can take such measures as may be necessary to ensure that the case of an assisted person is properly attended to and, without prejudice to the latter’s action for damages, may request the imposition of disciplinary penalties on lawyers who neglect their duties (Article 4 of the 1923 Decree).\n",
            "(c) Procedure in the event of statutory limitation\n",
            "19. By virtue of Article 152 of the Code of Criminal Procedure, a court is obliged, at any stage of the proceedings, to take notice of its own motion of the extinction of an offence; statutory limitation takes effect by operation of law, even where an appeal is otherwise inadmissible.\n",
            "The Government conceded that in the present case the Court of Cassation should itself have raised this question in its decisions on the applications to quash.\n",
            "\n",
            "\n",
            "Verdict: violation\n"
          ]
        }
      ],
      "source": [
        "#print some data\n",
        "row_number = 33 #change this number to try other rows\n",
        "print('Facts of the case:\\n', facts_dataset.loc[row_number]['Facts'])\n",
        "print('\\n\\nVerdict:', 'violation' if facts_dataset.loc[row_number]['Violation'] == 1 else 'no violation')"
      ]
    },
    {
      "cell_type": "markdown",
      "metadata": {
        "id": "DS5_uP_f3UfY"
      },
      "source": [
        "###Data info"
      ]
    },
    {
      "cell_type": "code",
      "execution_count": 10,
      "metadata": {
        "id": "uMjZKeMtV8Ze",
        "colab": {
          "base_uri": "https://localhost:8080/"
        },
        "outputId": "de0ea7ab-e8d8-4652-f719-a44f52257ba8"
      },
      "outputs": [
        {
          "output_type": "stream",
          "name": "stdout",
          "text": [
            "Number of cases with violation: 12450\n",
            "Number of cases without violation: 2087\n"
          ]
        }
      ],
      "source": [
        "#print some numbers\n",
        "print('Number of cases with violation:',\n",
        "      facts_dataset['Violation'].value_counts()[1])\n",
        "\n",
        "print('Number of cases without violation:',\n",
        "      facts_dataset['Violation'].value_counts()[0])"
      ]
    },
    {
      "cell_type": "markdown",
      "metadata": {
        "id": "F5y0VpHGz6xK"
      },
      "source": [
        "---\n",
        "\n",
        "###Split the dataset into training and test data\n",
        "\n",
        "We want to only predict future cases to immitate how we would predict future court decision. Plus we don't want to use newer cases to predict old cases since they may be related, and that would be cheating.\n"
      ]
    },
    {
      "cell_type": "code",
      "execution_count": 11,
      "metadata": {
        "id": "23E7lB7SlE6Q"
      },
      "outputs": [],
      "source": [
        "#split the data in train and test\n",
        "train = facts_dataset[(facts_dataset['Date'] < '2017-01-01')]\n",
        "test = facts_dataset[(facts_dataset['Date'] >= '2017-01-01')]"
      ]
    },
    {
      "cell_type": "markdown",
      "metadata": {
        "id": "7EDvaOWefoXi"
      },
      "source": [
        "Print the amount of cases in training set that resulted in violation of human rights:"
      ]
    },
    {
      "cell_type": "code",
      "execution_count": 12,
      "metadata": {
        "colab": {
          "base_uri": "https://localhost:8080/"
        },
        "id": "36FC25iVnQ6o",
        "outputId": "7e74f826-e0ca-48b2-89e9-769e8f8ea667"
      },
      "outputs": [
        {
          "output_type": "execute_result",
          "data": {
            "text/plain": [
              "1795"
            ]
          },
          "metadata": {},
          "execution_count": 12
        }
      ],
      "source": [
        "train['Violation'].value_counts()[0]"
      ]
    },
    {
      "cell_type": "markdown",
      "metadata": {
        "id": "zNuH7Kx8f1PN"
      },
      "source": [
        "AT HOME: try printing the amount of the cases that resulted in no violaiton."
      ]
    },
    {
      "cell_type": "code",
      "execution_count": 13,
      "metadata": {
        "id": "NL9joMO_L4zD",
        "colab": {
          "base_uri": "https://localhost:8080/",
          "height": 424
        },
        "outputId": "89a415dc-2df0-43db-c58e-0245dfb312a4"
      },
      "outputs": [
        {
          "output_type": "execute_result",
          "data": {
            "text/plain": [
              "            Date                                              Facts  Violation\n",
              "0     1960-11-14  The purpose of the Commission's Request - to w...          0\n",
              "1     1961-07-01  I\\n1. The purpose of the Commission's request ...          0\n",
              "2     1967-02-09  1.  The object of the Commission’s request is ...          0\n",
              "3     1968-06-27  1. The object of the Commission’s request is t...          0\n",
              "6     1969-11-10  1. The Commission and the Government have refe...          0\n",
              "...          ...                                                ...        ...\n",
              "3339  2006-06-08  A.  Background to the case\\n8.  The applicant ...          1\n",
              "5346  2008-09-18  4.  The applicant was born in 1939 and lives i...          1\n",
              "5196  2008-06-19  4.  The applicant was born in 1958 and lives i...          1\n",
              "4978  2008-03-18  4.  The applicants were born in 1955, 1935 and...          1\n",
              "4163  2007-05-03  5.  The applicants were born in 1972, 1969, 19...          1\n",
              "\n",
              "[3590 rows x 3 columns]"
            ],
            "text/html": [
              "\n",
              "  <div id=\"df-11e346b6-df6d-413b-976d-5b26626bfb09\">\n",
              "    <div class=\"colab-df-container\">\n",
              "      <div>\n",
              "<style scoped>\n",
              "    .dataframe tbody tr th:only-of-type {\n",
              "        vertical-align: middle;\n",
              "    }\n",
              "\n",
              "    .dataframe tbody tr th {\n",
              "        vertical-align: top;\n",
              "    }\n",
              "\n",
              "    .dataframe thead th {\n",
              "        text-align: right;\n",
              "    }\n",
              "</style>\n",
              "<table border=\"1\" class=\"dataframe\">\n",
              "  <thead>\n",
              "    <tr style=\"text-align: right;\">\n",
              "      <th></th>\n",
              "      <th>Date</th>\n",
              "      <th>Facts</th>\n",
              "      <th>Violation</th>\n",
              "    </tr>\n",
              "  </thead>\n",
              "  <tbody>\n",
              "    <tr>\n",
              "      <th>0</th>\n",
              "      <td>1960-11-14</td>\n",
              "      <td>The purpose of the Commission's Request - to w...</td>\n",
              "      <td>0</td>\n",
              "    </tr>\n",
              "    <tr>\n",
              "      <th>1</th>\n",
              "      <td>1961-07-01</td>\n",
              "      <td>I\\n1. The purpose of the Commission's request ...</td>\n",
              "      <td>0</td>\n",
              "    </tr>\n",
              "    <tr>\n",
              "      <th>2</th>\n",
              "      <td>1967-02-09</td>\n",
              "      <td>1.  The object of the Commission’s request is ...</td>\n",
              "      <td>0</td>\n",
              "    </tr>\n",
              "    <tr>\n",
              "      <th>3</th>\n",
              "      <td>1968-06-27</td>\n",
              "      <td>1. The object of the Commission’s request is t...</td>\n",
              "      <td>0</td>\n",
              "    </tr>\n",
              "    <tr>\n",
              "      <th>6</th>\n",
              "      <td>1969-11-10</td>\n",
              "      <td>1. The Commission and the Government have refe...</td>\n",
              "      <td>0</td>\n",
              "    </tr>\n",
              "    <tr>\n",
              "      <th>...</th>\n",
              "      <td>...</td>\n",
              "      <td>...</td>\n",
              "      <td>...</td>\n",
              "    </tr>\n",
              "    <tr>\n",
              "      <th>3339</th>\n",
              "      <td>2006-06-08</td>\n",
              "      <td>A.  Background to the case\\n8.  The applicant ...</td>\n",
              "      <td>1</td>\n",
              "    </tr>\n",
              "    <tr>\n",
              "      <th>5346</th>\n",
              "      <td>2008-09-18</td>\n",
              "      <td>4.  The applicant was born in 1939 and lives i...</td>\n",
              "      <td>1</td>\n",
              "    </tr>\n",
              "    <tr>\n",
              "      <th>5196</th>\n",
              "      <td>2008-06-19</td>\n",
              "      <td>4.  The applicant was born in 1958 and lives i...</td>\n",
              "      <td>1</td>\n",
              "    </tr>\n",
              "    <tr>\n",
              "      <th>4978</th>\n",
              "      <td>2008-03-18</td>\n",
              "      <td>4.  The applicants were born in 1955, 1935 and...</td>\n",
              "      <td>1</td>\n",
              "    </tr>\n",
              "    <tr>\n",
              "      <th>4163</th>\n",
              "      <td>2007-05-03</td>\n",
              "      <td>5.  The applicants were born in 1972, 1969, 19...</td>\n",
              "      <td>1</td>\n",
              "    </tr>\n",
              "  </tbody>\n",
              "</table>\n",
              "<p>3590 rows × 3 columns</p>\n",
              "</div>\n",
              "      <button class=\"colab-df-convert\" onclick=\"convertToInteractive('df-11e346b6-df6d-413b-976d-5b26626bfb09')\"\n",
              "              title=\"Convert this dataframe to an interactive table.\"\n",
              "              style=\"display:none;\">\n",
              "        \n",
              "  <svg xmlns=\"http://www.w3.org/2000/svg\" height=\"24px\"viewBox=\"0 0 24 24\"\n",
              "       width=\"24px\">\n",
              "    <path d=\"M0 0h24v24H0V0z\" fill=\"none\"/>\n",
              "    <path d=\"M18.56 5.44l.94 2.06.94-2.06 2.06-.94-2.06-.94-.94-2.06-.94 2.06-2.06.94zm-11 1L8.5 8.5l.94-2.06 2.06-.94-2.06-.94L8.5 2.5l-.94 2.06-2.06.94zm10 10l.94 2.06.94-2.06 2.06-.94-2.06-.94-.94-2.06-.94 2.06-2.06.94z\"/><path d=\"M17.41 7.96l-1.37-1.37c-.4-.4-.92-.59-1.43-.59-.52 0-1.04.2-1.43.59L10.3 9.45l-7.72 7.72c-.78.78-.78 2.05 0 2.83L4 21.41c.39.39.9.59 1.41.59.51 0 1.02-.2 1.41-.59l7.78-7.78 2.81-2.81c.8-.78.8-2.07 0-2.86zM5.41 20L4 18.59l7.72-7.72 1.47 1.35L5.41 20z\"/>\n",
              "  </svg>\n",
              "      </button>\n",
              "      \n",
              "  <style>\n",
              "    .colab-df-container {\n",
              "      display:flex;\n",
              "      flex-wrap:wrap;\n",
              "      gap: 12px;\n",
              "    }\n",
              "\n",
              "    .colab-df-convert {\n",
              "      background-color: #E8F0FE;\n",
              "      border: none;\n",
              "      border-radius: 50%;\n",
              "      cursor: pointer;\n",
              "      display: none;\n",
              "      fill: #1967D2;\n",
              "      height: 32px;\n",
              "      padding: 0 0 0 0;\n",
              "      width: 32px;\n",
              "    }\n",
              "\n",
              "    .colab-df-convert:hover {\n",
              "      background-color: #E2EBFA;\n",
              "      box-shadow: 0px 1px 2px rgba(60, 64, 67, 0.3), 0px 1px 3px 1px rgba(60, 64, 67, 0.15);\n",
              "      fill: #174EA6;\n",
              "    }\n",
              "\n",
              "    [theme=dark] .colab-df-convert {\n",
              "      background-color: #3B4455;\n",
              "      fill: #D2E3FC;\n",
              "    }\n",
              "\n",
              "    [theme=dark] .colab-df-convert:hover {\n",
              "      background-color: #434B5C;\n",
              "      box-shadow: 0px 1px 3px 1px rgba(0, 0, 0, 0.15);\n",
              "      filter: drop-shadow(0px 1px 2px rgba(0, 0, 0, 0.3));\n",
              "      fill: #FFFFFF;\n",
              "    }\n",
              "  </style>\n",
              "\n",
              "      <script>\n",
              "        const buttonEl =\n",
              "          document.querySelector('#df-11e346b6-df6d-413b-976d-5b26626bfb09 button.colab-df-convert');\n",
              "        buttonEl.style.display =\n",
              "          google.colab.kernel.accessAllowed ? 'block' : 'none';\n",
              "\n",
              "        async function convertToInteractive(key) {\n",
              "          const element = document.querySelector('#df-11e346b6-df6d-413b-976d-5b26626bfb09');\n",
              "          const dataTable =\n",
              "            await google.colab.kernel.invokeFunction('convertToInteractive',\n",
              "                                                     [key], {});\n",
              "          if (!dataTable) return;\n",
              "\n",
              "          const docLinkHtml = 'Like what you see? Visit the ' +\n",
              "            '<a target=\"_blank\" href=https://colab.research.google.com/notebooks/data_table.ipynb>data table notebook</a>'\n",
              "            + ' to learn more about interactive tables.';\n",
              "          element.innerHTML = '';\n",
              "          dataTable['output_type'] = 'display_data';\n",
              "          await google.colab.output.renderOutput(dataTable, element);\n",
              "          const docLink = document.createElement('div');\n",
              "          docLink.innerHTML = docLinkHtml;\n",
              "          element.appendChild(docLink);\n",
              "        }\n",
              "      </script>\n",
              "    </div>\n",
              "  </div>\n",
              "  "
            ]
          },
          "metadata": {},
          "execution_count": 13
        }
      ],
      "source": [
        "#undersampling\n",
        "train_v = train[train['Violation'] == 1]\n",
        "train_nv = train[train['Violation'] == 0]\n",
        "train_v = train_v.sample(n=len(train_nv), random_state=101)\n",
        "train = pd.concat([train_nv, train_v])\n",
        "train"
      ]
    },
    {
      "cell_type": "code",
      "execution_count": 14,
      "metadata": {
        "id": "MOZJkQ0UHx2j",
        "colab": {
          "base_uri": "https://localhost:8080/",
          "height": 424
        },
        "outputId": "33e372ce-0480-4cb3-ba1f-e8f08981cdc0"
      },
      "outputs": [
        {
          "output_type": "execute_result",
          "data": {
            "text/plain": [
              "             Date                                              Facts  \\\n",
              "11656  2017-01-10  5.  The applicant was born in 1971 and lives i...   \n",
              "11657  2017-01-10  A.  The background to the case\\n6.  The applic...   \n",
              "11658  2017-01-10  6.  The applicant was born in 1980 in Tetovo a...   \n",
              "11668  2017-01-12  A.  Background\\n5.  The applicants are the wif...   \n",
              "11669  2017-01-12  6.  The applicant was born in 1970 in Rafah, G...   \n",
              "...           ...                                                ...   \n",
              "12834  2018-05-15  5.  The applicant was born in 1984 and lives i...   \n",
              "13416  2019-02-05  6.  The applicants are five Russian nationals....   \n",
              "12826  2018-05-15  5.  The applicant was born in 1985 and lives i...   \n",
              "13675  2019-06-27  3.  The list of applicants and the relevant de...   \n",
              "12040  2017-06-13  4.  The applicant was born in 1992 and lives i...   \n",
              "\n",
              "       Violation  \n",
              "11656          0  \n",
              "11657          0  \n",
              "11658          0  \n",
              "11668          0  \n",
              "11669          0  \n",
              "...          ...  \n",
              "12834          1  \n",
              "13416          1  \n",
              "12826          1  \n",
              "13675          1  \n",
              "12040          1  \n",
              "\n",
              "[584 rows x 3 columns]"
            ],
            "text/html": [
              "\n",
              "  <div id=\"df-67d505d5-8e06-4c85-91f0-a9cb46db4045\">\n",
              "    <div class=\"colab-df-container\">\n",
              "      <div>\n",
              "<style scoped>\n",
              "    .dataframe tbody tr th:only-of-type {\n",
              "        vertical-align: middle;\n",
              "    }\n",
              "\n",
              "    .dataframe tbody tr th {\n",
              "        vertical-align: top;\n",
              "    }\n",
              "\n",
              "    .dataframe thead th {\n",
              "        text-align: right;\n",
              "    }\n",
              "</style>\n",
              "<table border=\"1\" class=\"dataframe\">\n",
              "  <thead>\n",
              "    <tr style=\"text-align: right;\">\n",
              "      <th></th>\n",
              "      <th>Date</th>\n",
              "      <th>Facts</th>\n",
              "      <th>Violation</th>\n",
              "    </tr>\n",
              "  </thead>\n",
              "  <tbody>\n",
              "    <tr>\n",
              "      <th>11656</th>\n",
              "      <td>2017-01-10</td>\n",
              "      <td>5.  The applicant was born in 1971 and lives i...</td>\n",
              "      <td>0</td>\n",
              "    </tr>\n",
              "    <tr>\n",
              "      <th>11657</th>\n",
              "      <td>2017-01-10</td>\n",
              "      <td>A.  The background to the case\\n6.  The applic...</td>\n",
              "      <td>0</td>\n",
              "    </tr>\n",
              "    <tr>\n",
              "      <th>11658</th>\n",
              "      <td>2017-01-10</td>\n",
              "      <td>6.  The applicant was born in 1980 in Tetovo a...</td>\n",
              "      <td>0</td>\n",
              "    </tr>\n",
              "    <tr>\n",
              "      <th>11668</th>\n",
              "      <td>2017-01-12</td>\n",
              "      <td>A.  Background\\n5.  The applicants are the wif...</td>\n",
              "      <td>0</td>\n",
              "    </tr>\n",
              "    <tr>\n",
              "      <th>11669</th>\n",
              "      <td>2017-01-12</td>\n",
              "      <td>6.  The applicant was born in 1970 in Rafah, G...</td>\n",
              "      <td>0</td>\n",
              "    </tr>\n",
              "    <tr>\n",
              "      <th>...</th>\n",
              "      <td>...</td>\n",
              "      <td>...</td>\n",
              "      <td>...</td>\n",
              "    </tr>\n",
              "    <tr>\n",
              "      <th>12834</th>\n",
              "      <td>2018-05-15</td>\n",
              "      <td>5.  The applicant was born in 1984 and lives i...</td>\n",
              "      <td>1</td>\n",
              "    </tr>\n",
              "    <tr>\n",
              "      <th>13416</th>\n",
              "      <td>2019-02-05</td>\n",
              "      <td>6.  The applicants are five Russian nationals....</td>\n",
              "      <td>1</td>\n",
              "    </tr>\n",
              "    <tr>\n",
              "      <th>12826</th>\n",
              "      <td>2018-05-15</td>\n",
              "      <td>5.  The applicant was born in 1985 and lives i...</td>\n",
              "      <td>1</td>\n",
              "    </tr>\n",
              "    <tr>\n",
              "      <th>13675</th>\n",
              "      <td>2019-06-27</td>\n",
              "      <td>3.  The list of applicants and the relevant de...</td>\n",
              "      <td>1</td>\n",
              "    </tr>\n",
              "    <tr>\n",
              "      <th>12040</th>\n",
              "      <td>2017-06-13</td>\n",
              "      <td>4.  The applicant was born in 1992 and lives i...</td>\n",
              "      <td>1</td>\n",
              "    </tr>\n",
              "  </tbody>\n",
              "</table>\n",
              "<p>584 rows × 3 columns</p>\n",
              "</div>\n",
              "      <button class=\"colab-df-convert\" onclick=\"convertToInteractive('df-67d505d5-8e06-4c85-91f0-a9cb46db4045')\"\n",
              "              title=\"Convert this dataframe to an interactive table.\"\n",
              "              style=\"display:none;\">\n",
              "        \n",
              "  <svg xmlns=\"http://www.w3.org/2000/svg\" height=\"24px\"viewBox=\"0 0 24 24\"\n",
              "       width=\"24px\">\n",
              "    <path d=\"M0 0h24v24H0V0z\" fill=\"none\"/>\n",
              "    <path d=\"M18.56 5.44l.94 2.06.94-2.06 2.06-.94-2.06-.94-.94-2.06-.94 2.06-2.06.94zm-11 1L8.5 8.5l.94-2.06 2.06-.94-2.06-.94L8.5 2.5l-.94 2.06-2.06.94zm10 10l.94 2.06.94-2.06 2.06-.94-2.06-.94-.94-2.06-.94 2.06-2.06.94z\"/><path d=\"M17.41 7.96l-1.37-1.37c-.4-.4-.92-.59-1.43-.59-.52 0-1.04.2-1.43.59L10.3 9.45l-7.72 7.72c-.78.78-.78 2.05 0 2.83L4 21.41c.39.39.9.59 1.41.59.51 0 1.02-.2 1.41-.59l7.78-7.78 2.81-2.81c.8-.78.8-2.07 0-2.86zM5.41 20L4 18.59l7.72-7.72 1.47 1.35L5.41 20z\"/>\n",
              "  </svg>\n",
              "      </button>\n",
              "      \n",
              "  <style>\n",
              "    .colab-df-container {\n",
              "      display:flex;\n",
              "      flex-wrap:wrap;\n",
              "      gap: 12px;\n",
              "    }\n",
              "\n",
              "    .colab-df-convert {\n",
              "      background-color: #E8F0FE;\n",
              "      border: none;\n",
              "      border-radius: 50%;\n",
              "      cursor: pointer;\n",
              "      display: none;\n",
              "      fill: #1967D2;\n",
              "      height: 32px;\n",
              "      padding: 0 0 0 0;\n",
              "      width: 32px;\n",
              "    }\n",
              "\n",
              "    .colab-df-convert:hover {\n",
              "      background-color: #E2EBFA;\n",
              "      box-shadow: 0px 1px 2px rgba(60, 64, 67, 0.3), 0px 1px 3px 1px rgba(60, 64, 67, 0.15);\n",
              "      fill: #174EA6;\n",
              "    }\n",
              "\n",
              "    [theme=dark] .colab-df-convert {\n",
              "      background-color: #3B4455;\n",
              "      fill: #D2E3FC;\n",
              "    }\n",
              "\n",
              "    [theme=dark] .colab-df-convert:hover {\n",
              "      background-color: #434B5C;\n",
              "      box-shadow: 0px 1px 3px 1px rgba(0, 0, 0, 0.15);\n",
              "      filter: drop-shadow(0px 1px 2px rgba(0, 0, 0, 0.3));\n",
              "      fill: #FFFFFF;\n",
              "    }\n",
              "  </style>\n",
              "\n",
              "      <script>\n",
              "        const buttonEl =\n",
              "          document.querySelector('#df-67d505d5-8e06-4c85-91f0-a9cb46db4045 button.colab-df-convert');\n",
              "        buttonEl.style.display =\n",
              "          google.colab.kernel.accessAllowed ? 'block' : 'none';\n",
              "\n",
              "        async function convertToInteractive(key) {\n",
              "          const element = document.querySelector('#df-67d505d5-8e06-4c85-91f0-a9cb46db4045');\n",
              "          const dataTable =\n",
              "            await google.colab.kernel.invokeFunction('convertToInteractive',\n",
              "                                                     [key], {});\n",
              "          if (!dataTable) return;\n",
              "\n",
              "          const docLinkHtml = 'Like what you see? Visit the ' +\n",
              "            '<a target=\"_blank\" href=https://colab.research.google.com/notebooks/data_table.ipynb>data table notebook</a>'\n",
              "            + ' to learn more about interactive tables.';\n",
              "          element.innerHTML = '';\n",
              "          dataTable['output_type'] = 'display_data';\n",
              "          await google.colab.output.renderOutput(dataTable, element);\n",
              "          const docLink = document.createElement('div');\n",
              "          docLink.innerHTML = docLinkHtml;\n",
              "          element.appendChild(docLink);\n",
              "        }\n",
              "      </script>\n",
              "    </div>\n",
              "  </div>\n",
              "  "
            ]
          },
          "metadata": {},
          "execution_count": 14
        }
      ],
      "source": [
        "test_v = test[test['Violation'] == 1]\n",
        "test_nv = test[test['Violation'] == 0]\n",
        "test_v = test_v.sample(n=len(test_nv), random_state=101)\n",
        "test = pd.concat([test_nv, test_v])\n",
        "test"
      ]
    },
    {
      "cell_type": "markdown",
      "metadata": {
        "id": "gg8PRiQYgRnl"
      },
      "source": [
        "###Input and labels"
      ]
    },
    {
      "cell_type": "markdown",
      "metadata": {
        "id": "hzjGOIAVgeqb"
      },
      "source": [
        "Now let's create a list of all inputs (facts) for the training set `Xtrain`, and a list of labels `Ytrain`.\n",
        "\n",
        "Let's do the same for the test set, input `Xtest` and labels `Ytest`\n",
        "\n"
      ]
    },
    {
      "cell_type": "code",
      "execution_count": 21,
      "metadata": {
        "id": "68KbDKDepStC"
      },
      "outputs": [],
      "source": [
        "Xtrain_words = train['Facts']\n",
        "Ytrain = train['Violation']\n",
        "Xtest = test['Facts']\n",
        "Ytest = test['Violation']\n",
        "\n",
        "Xtest_text = list(test['Facts']) #AT HOME: what is this for?"
      ]
    },
    {
      "cell_type": "code",
      "execution_count": 22,
      "metadata": {
        "id": "g-LP0o33t7Q2",
        "colab": {
          "base_uri": "https://localhost:8080/"
        },
        "outputId": "13270093-1869-4cac-db99-bf88cf275ce7"
      },
      "outputs": [
        {
          "output_type": "stream",
          "name": "stdout",
          "text": [
            "Number of cases in the training set: 3590\n",
            "Number of cases in the test set: 584\n"
          ]
        }
      ],
      "source": [
        "print('Number of cases in the training set:', len(Xtrain_words))\n",
        "print('Number of cases in the test set:', len(Xtest))"
      ]
    },
    {
      "cell_type": "markdown",
      "metadata": {
        "id": "WcuFpZad4vYw"
      },
      "source": [
        "###Create feature vectors"
      ]
    },
    {
      "cell_type": "markdown",
      "metadata": {
        "id": "T2zBvJBCN4Qm"
      },
      "source": [
        "**AT HOME:** Try adding more parameters to TFidfvectorizer to see if it changes the results. You can find the parameters that you can change here:\n",
        "https://scikit-learn.org/stable/modules/generated/sklearn.feature_extraction.text.TfidfVectorizer.html\n",
        "\n",
        "To change the parameters re-write the line that contains TfidfVectorizer(), for instance:\n",
        "\n",
        "`vectorizer = TfidfVectorizer(ngram_range=(1,2))`\n",
        "\n",
        "**Report what your best result is in class.**\n"
      ]
    },
    {
      "cell_type": "code",
      "execution_count": 23,
      "metadata": {
        "id": "b0Wj8vaTphMz",
        "colab": {
          "base_uri": "https://localhost:8080/"
        },
        "outputId": "81e059c4-9ad0-4c9b-f27a-331fd082a283"
      },
      "outputs": [
        {
          "output_type": "stream",
          "name": "stdout",
          "text": [
            "Number of features: 6913791\n"
          ]
        },
        {
          "output_type": "execute_result",
          "data": {
            "text/plain": [
              "array(['00', '00 0010', '00 0010 03', ..., 'საფასური which',\n",
              "       'საფასური which appeared', 'საფასური which appeared in'],\n",
              "      dtype=object)"
            ]
          },
          "metadata": {},
          "execution_count": 23
        }
      ],
      "source": [
        "#encode features into vectors: tf-idf vectorizer\n",
        "vectorizer = TfidfVectorizer(ngram_range=(1,4))\n",
        "Xtrain = vectorizer.fit_transform(Xtrain_words)\n",
        "print('Number of features:', len(vectorizer.get_feature_names_out()))\n",
        "vectorizer.get_feature_names_out()"
      ]
    },
    {
      "cell_type": "code",
      "execution_count": 24,
      "metadata": {
        "id": "za9zwJUyqp2z"
      },
      "outputs": [],
      "source": [
        "#transform test set into vectors\n",
        "Xtest = vectorizer.transform(Xtest)"
      ]
    },
    {
      "cell_type": "markdown",
      "metadata": {
        "id": "DVU-DESp48Tg"
      },
      "source": [
        "## Machine learning"
      ]
    },
    {
      "cell_type": "markdown",
      "metadata": {
        "id": "4VJygdM_O4Xz"
      },
      "source": [
        "**You can read about all the algorithms below in the Machine Leaning for Legal Text Classification reading. Read everything until evaluation section.**"
      ]
    },
    {
      "cell_type": "markdown",
      "metadata": {
        "id": "RyQIeSYb5AYf"
      },
      "source": [
        "###Dummy classifier"
      ]
    },
    {
      "cell_type": "code",
      "execution_count": null,
      "metadata": {
        "id": "g-RBDEpuwuri"
      },
      "outputs": [],
      "source": [
        "#Dummy classifier\n",
        "dummy_clf = DummyClassifier(strategy=\"uniform\")\n",
        "dummy_clf.fit(Xtrain, Ytrain)"
      ]
    },
    {
      "cell_type": "markdown",
      "metadata": {
        "id": "q3y4_xMF5E6f"
      },
      "source": [
        "#### Making a prediction"
      ]
    },
    {
      "cell_type": "code",
      "execution_count": null,
      "metadata": {
        "id": "j2QwDdnXqzxA"
      },
      "outputs": [],
      "source": [
        "#make a prediction\n",
        "Ypredict = dummy_clf.predict(Xtest)\n",
        "accuracy_score(Ytest, Ypredict)"
      ]
    },
    {
      "cell_type": "code",
      "execution_count": null,
      "metadata": {
        "colab": {
          "base_uri": "https://localhost:8080/"
        },
        "id": "QDf4p7ZN5NBt",
        "outputId": "2d21f657-2319-4cd8-862f-ad2754478d3d"
      },
      "outputs": [
        {
          "name": "stdout",
          "output_type": "stream",
          "text": [
            "Prediction: 0 \n",
            "Gold label: 0 \n",
            "\n",
            "Facts of the case:\n",
            " 6.  The applicant is a lawyer who also writes articles for various Russian law journals and online legal information databases and networks.\n",
            "7.  According to the applicant, his work usually requires extensive scientific research, including in the field of law enforcement in the Khabarovsk Region. He supported his assertion with copies of contracts with well-known Russian publishing houses and owners of a number of legal magazines, including one supervised by the Secretariat of the President of the Russian Federation. Under the contracts he undertook the task of writing articles on specific topics of legal and social interest.\n",
            "8.  Having received an assignment to write an article on prostitution and the fight against it in the Khabarovsk Region, on 12 May 2009 the applicant wrote to the head of the Khabarovsk Region police department by registered letter, asking for statistical data for his research. The relevant parts read:\n",
            "“[I am] interested in [receiving] information for the period between 2000 and 2009, in particular:\n",
            "- [information on] the number of people found administratively liable under Article 6.11 of the ... Code of Administrative Offences (prostitution), with a breakdown by sex, residence (residents of the Khabarovsk Region or visitors), nationality (nationals of the Russian Federation, foreigners or stateless persons) and the year [of the offence];\n",
            "- [information on] the number of criminal cases instituted during the above‐mentioned period under Articles 241, 242, 242.1 [and] 127.1 (cases related to sexual exploitation) of the ... Criminal Code, with a breakdown of the specific Articles ... and the year [the case was opened];\n",
            "- [information on] the number of individuals found criminally liable under Articles 241, 242, 242.1 [and] 127.1 ... of the ... Criminal Code, with a breakdown by sex, age, educational background, permanent residence (residents of the Khabarovsk Region or visitors), nationality and period [in which the crime was committed];\n",
            "- general information on sentences imposed on individuals found criminally liable under Articles 241, 242, 242.1 [and] 127.1 ... of the ... Criminal Code ‐ the types of sentences and in how many cases they were imposed, and the years [they were imposed].\n",
            "...\n",
            "[I] stress that I do not need any specific personal information about individuals found administratively or criminally liable; [I only need] general statistical information for writing a scientific article.”\n",
            "9.  It appears from an acknowledgement of receipt that the letter reached the Khabarovsk Region police department on 25 May 2009.\n",
            "10.  Under Russian law, State officials must provide a reply to letters from individuals within thirty days. In the absence of any response, on 26 June 2009 the applicant lodged a claim with the Tsentralniy District Court of Khabarovsk (“the District Court”), complaining that the police authorities had failed to provide him with the information he had requested and requesting for access. Relying on the Information Act (see below) and Article 10 of the Convention, he argued that the officials’ implied refusal to provide him with the information had been unlawful as he had not asked for access to any confidential personal information, State secrets or information related to internal police working methods. He claimed that his request had related purely to statistical data of a general nature collected by the Information Centre of the Khabarovsk Region police department (hereinafter “the Information Centre”).\n",
            "11.  On 18 July 2009 the applicant received a letter from the head of the Information Centre, notifying him that information as specific as he had asked for could only be collected on production of a written order issued by a deputy Minister of Internal Affairs, a head of a regional or municipal police department or their divisions or a prosecutor or investigator from a prosecutor’s office. The Information Centre did not collect such information at the request of private individuals. General statistical data summarised by the Information Centre was provided to the Federal Service of State Statistics and in particular its regional office for the Khabarovsk Region, to whom the applicant could apply for the statistical data.\n",
            "12.  On 19 July 2009 the applicant wrote to the Khabarovsk Region Service of State Statistics (hereinafter “the Statistics Service”) by registered letter, asking for the statistical data for his research.\n",
            "13.  On 23 July 2009 the head of the Statistics Service replied, stating that specific statistical information on the fight against prostitution had never been provided by the Khabarovsk Regional police department.\n",
            "14.  The applicant filed copies of his letters from the Information Centre and Statistics Service with the District Court.\n",
            "15.  On 4 August 2009 it dismissed the applicant’s claim on the grounds that the Information Centre was not authorised to process data requests from private individuals. Under domestic law, the Statistics Service was tasked with dissemination of official statistical data on a broad variety of subjects, including those falling within the applicant’s field of interest. It also noted that the applicant had failed to obtain the information sought from open sources, such as libraries, archives and the Internet. The District Court also stressed that the information requested did not touch upon the applicant’s rights and legitimate interests, so the authorities’ refusal to grant him access to such information had been lawful and well-founded under section 8(2) of the Information Act.\n",
            "16.  The applicant appealed, arguing, among other things, that the police authorities had exclusive possession of the information sought by him and that he had no other means, including through assistance from the Statistics Service, of obtaining the necessary data. In addition, he submitted that the fact that his rights and legitimate interests were not affected by the requested information had no bearing on the case as under Russian law, it was not only those directly concerned who were granted access to public information.\n",
            "17.  On 16 September 2009 the Khabarovsk Regional Court upheld the judgment of 4 August 2009. Relying on section 8(2) of the Information Act, it concluded that the authorities were not obliged to provide the applicant with the information as it did not touch upon his rights and legitimate interests.\n"
          ]
        }
      ],
      "source": [
        "print('Prediction:', Ypredict[22], '\\nGold label:', list(Ytest)[22], '\\n\\nFacts of the case:\\n', (Xtest_text[22]))\n"
      ]
    },
    {
      "cell_type": "markdown",
      "metadata": {
        "id": "XQvtVoIOiHWW"
      },
      "source": [
        "### Naive Bayes"
      ]
    },
    {
      "cell_type": "code",
      "execution_count": null,
      "metadata": {
        "colab": {
          "base_uri": "https://localhost:8080/"
        },
        "id": "gLhhTV8HdaLe",
        "outputId": "20a37e7d-0441-468e-fb06-62c96266549c"
      },
      "outputs": [
        {
          "data": {
            "text/plain": [
              "0.7294520547945206"
            ]
          },
          "execution_count": 22,
          "metadata": {},
          "output_type": "execute_result"
        }
      ],
      "source": [
        "#Naive Bayes classifier\n",
        "nb_clf = MultinomialNB()\n",
        "nb_clf.fit(Xtrain, Ytrain)\n",
        "Ypredict = nb_clf.predict(Xtest)\n",
        "accuracy_score(Ytest, Ypredict)"
      ]
    },
    {
      "cell_type": "markdown",
      "metadata": {
        "id": "9ery9KcckEXZ"
      },
      "source": [
        "**AT HOME**: Why does this Naive Bayes classifier produce such a high score? You don't need to know how the model works to answer this question.\n",
        "\n"
      ]
    },
    {
      "cell_type": "markdown",
      "metadata": {
        "id": "zeabHjGSc4Nk"
      },
      "source": [
        "___"
      ]
    },
    {
      "cell_type": "markdown",
      "metadata": {
        "id": "W72y9c5DPVbf"
      },
      "source": [
        "**AT HOME:** Run the code below to see which machien algorithm works best for your data. Try changing parameters of the algorithms to get higher scores."
      ]
    },
    {
      "cell_type": "markdown",
      "metadata": {
        "id": "D8lg62SFPlVm"
      },
      "source": [
        "### LinearSVC\n",
        "\n",
        "If you want to change parameters of the classifier you can find the ones for LinearSVC here: https://scikit-learn.org/stable/modules/generated/sklearn.svm.LinearSVC.html\n",
        "\n",
        "To change parameter add them to the brackets in `LinearSVC()`\n",
        "\n",
        "For instance, `LinearSVC(C=10)`."
      ]
    },
    {
      "cell_type": "code",
      "execution_count": 25,
      "metadata": {
        "colab": {
          "base_uri": "https://localhost:8080/"
        },
        "id": "1GtzPtSNdx-I",
        "outputId": "ef6155fc-c711-453a-b745-fa2b153a707c"
      },
      "outputs": [
        {
          "output_type": "execute_result",
          "data": {
            "text/plain": [
              "0.7328767123287672"
            ]
          },
          "metadata": {},
          "execution_count": 25
        }
      ],
      "source": [
        "#Fast version of Linear SVC\n",
        "from sklearn.svm import LinearSVC\n",
        "svm_clf = LinearSVC()\n",
        "svm_clf.fit(Xtrain, Ytrain)\n",
        "Ypredict = svm_clf.predict(Xtest)\n",
        "accuracy_score(Ytest, Ypredict)"
      ]
    },
    {
      "cell_type": "markdown",
      "metadata": {
        "id": "DidHRO38Q10i"
      },
      "source": [
        "### LinearSVC\n",
        "\n",
        "You can find parameters for KNN classifier here: https://scikit-learn.org/stable/modules/generated/sklearn.neighbors.KNeighborsClassifier.html#sklearn.neighbors.KNeighborsClassifier.kneighbors\n",
        "\n",
        "**AT HOME:** Try changing the number of neighbors `KNeighborsClassifier()`\n",
        "\n",
        "For instance, `KNeighborsClassifier(n_neighbors=10)`"
      ]
    },
    {
      "cell_type": "code",
      "execution_count": null,
      "metadata": {
        "id": "klwjgQcPd5ph"
      },
      "outputs": [],
      "source": [
        "#KNN classifier\n",
        "from sklearn.neighbors import KNeighborsClassifier\n",
        "knn_clf = KNeighborsClassifier(n_neighbors=10)\n",
        "knn_clf.fit(Xtrain, Ytrain)\n",
        "Ypredict = knn_clf.predict(Xtest)\n",
        "accuracy_score(Ytest, Ypredict)"
      ]
    },
    {
      "cell_type": "code",
      "execution_count": null,
      "metadata": {
        "id": "E57SmPBPdnUh"
      },
      "outputs": [],
      "source": [
        "#Logistic regression classifier\n",
        "from sklearn.linear_model import LogisticRegression\n",
        "lr_clf = LogisticRegression()\n",
        "lr_clf.fit(Xtrain, Ytrain)\n",
        "Ypredict = lr_clf.predict(Xtest)\n",
        "accuracy_score(Ytest, Ypredict)"
      ]
    },
    {
      "cell_type": "markdown",
      "metadata": {
        "id": "B78IBRIUPsr5"
      },
      "source": [
        "We haven't discussed the algorithm below, but feel free to explore yourself:"
      ]
    },
    {
      "cell_type": "code",
      "execution_count": null,
      "metadata": {
        "colab": {
          "base_uri": "https://localhost:8080/"
        },
        "id": "rJ0JOfFGPqy4",
        "outputId": "9ac3c752-386c-4711-95f9-8e903a6f0805"
      },
      "outputs": [
        {
          "data": {
            "text/plain": [
              "0.7243150684931506"
            ]
          },
          "execution_count": 26,
          "metadata": {},
          "output_type": "execute_result"
        }
      ],
      "source": [
        "#Support vector machines classifier (with multiple kernels)\n",
        "from sklearn.svm import SVC\n",
        "svm_clf = SVC(kernel='linear')\n",
        "svm_clf.fit(Xtrain, Ytrain)\n",
        "Ypredict = svm_clf.predict(Xtest)\n",
        "accuracy_score(Ytest, Ypredict)"
      ]
    },
    {
      "cell_type": "markdown",
      "metadata": {
        "id": "De86e732G2LR"
      },
      "source": [
        "### Neural Networks - Multilayer Perceptron"
      ]
    },
    {
      "cell_type": "markdown",
      "metadata": {
        "id": "6If4m3Q-GihJ"
      },
      "source": [
        "Chack other parameters you can try with neural network (Multilayer perceptron): https://scikit-learn.org/stable/modules/generated/sklearn.neural_network.MLPClassifier.html"
      ]
    },
    {
      "cell_type": "code",
      "execution_count": null,
      "metadata": {
        "id": "WqMZNcSCF8WT"
      },
      "outputs": [],
      "source": [
        "from sklearn.neural_network import MLPClassifier\n",
        "mlp = MLPClassifier(solver='sgd', max_iter=1000, verbose=False)\n",
        "mlp.fit(Xtrain, Ytrain) #this will run for a looong time (reduce max_iter to make it run faster, but it will probably impact the performance)\n",
        "Ypredict = mlp.predict(Xtest)\n",
        "accuracy_score(Ytest, Ypredict)"
      ]
    }
  ],
  "metadata": {
    "colab": {
      "provenance": [],
      "toc_visible": true,
      "authorship_tag": "ABX9TyO1QYXR7IMVViVASlebZ/y4",
      "include_colab_link": true
    },
    "kernelspec": {
      "display_name": "Python 3",
      "name": "python3"
    },
    "language_info": {
      "name": "python"
    }
  },
  "nbformat": 4,
  "nbformat_minor": 0
}