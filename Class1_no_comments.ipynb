{
  "nbformat": 4,
  "nbformat_minor": 0,
  "metadata": {
    "colab": {
      "provenance": [],
      "authorship_tag": "ABX9TyM1Sp5De4prPJ6ET3UWqYzB",
      "include_colab_link": true
    },
    "kernelspec": {
      "name": "python3",
      "display_name": "Python 3"
    },
    "language_info": {
      "name": "python"
    }
  },
  "cells": [
    {
      "cell_type": "markdown",
      "metadata": {
        "id": "view-in-github",
        "colab_type": "text"
      },
      "source": [
        "<a href=\"https://colab.research.google.com/github/masha-medvedeva/AI_and_Digital_Skills/blob/main/Class1_no_comments.ipynb\" target=\"_parent\"><img src=\"https://colab.research.google.com/assets/colab-badge.svg\" alt=\"Open In Colab\"/></a>"
      ]
    },
    {
      "cell_type": "code",
      "source": [
        "from google.colab import drive  \n",
        "drive.mount('/content/gdrive')"
      ],
      "metadata": {
        "id": "nqkxX1cdg8pH"
      },
      "execution_count": null,
      "outputs": []
    },
    {
      "cell_type": "code",
      "execution_count": null,
      "metadata": {
        "id": "H_duyKVQfifP"
      },
      "outputs": [],
      "source": [
        "from sklearn.dummy import DummyClassifier\n",
        "from sklearn.feature_extraction.text import TfidfVectorizer\n",
        "import pandas as pd\n",
        "from sklearn.metrics import accuracy_score"
      ]
    },
    {
      "cell_type": "code",
      "source": [
        "dataset = pd.read_csv('/content/gdrive/MyDrive/AI and Digital Skills/data/Judgements_v_1.0.csv')\n",
        "facts_dataset = pd.DataFrame().assign(Date=dataset['kpdate'], Facts=dataset['facts'], Violation=dataset['violation']).dropna().reset_index(drop=True)"
      ],
      "metadata": {
        "id": "YCShv18JfoXu"
      },
      "execution_count": null,
      "outputs": []
    },
    {
      "cell_type": "code",
      "source": [
        "train = facts_dataset[(facts_dataset['Date'] < '2017-01-01')]\n",
        "test = facts_dataset[(facts_dataset['Date'] >= '2017-01-01')]"
      ],
      "metadata": {
        "id": "WhhwiAnyf8Re"
      },
      "execution_count": null,
      "outputs": []
    },
    {
      "cell_type": "code",
      "source": [
        "Xtrain, Ytrain, Xtest, Ytest = train['Facts'], train['Violation'], test['Facts'], test['Violation']"
      ],
      "metadata": {
        "id": "eanc7Dhlf9We"
      },
      "execution_count": null,
      "outputs": []
    },
    {
      "cell_type": "code",
      "source": [
        "vectorizer = TfidfVectorizer()\n",
        "Xtrain = vectorizer.fit_transform(Xtrain)\n",
        "Xtest = vectorizer.transform(Xtest)"
      ],
      "metadata": {
        "id": "j7gcmh2pgBeN"
      },
      "execution_count": null,
      "outputs": []
    },
    {
      "cell_type": "code",
      "source": [
        "#dummy classifier (doesn't actually predict anything)\n",
        "dummy_clf = DummyClassifier(strategy=\"most_frequent\")\n",
        "dummy_clf.fit(Xtrain, Ytrain)\n",
        "Ypredict = dummy_clf.predict(Xtest)\n",
        "accuracy_score(Ytest, Ypredict)"
      ],
      "metadata": {
        "id": "rikbrtXigG53"
      },
      "execution_count": null,
      "outputs": []
    }
  ]
}